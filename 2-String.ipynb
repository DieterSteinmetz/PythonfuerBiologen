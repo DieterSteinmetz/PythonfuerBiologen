{
 "cells": [
  {
   "cell_type": "markdown",
   "metadata": {},
   "source": [
    "# 2. Python - Zeichenketten - \"Strings\""
   ]
  },
  {
   "cell_type": "markdown",
   "metadata": {},
   "source": [
    "<img src=\"img/Genetic_code-bn.png\" width=\"600\" height=\"205\" />"
   ]
  },
  {
   "cell_type": "markdown",
   "metadata": {},
   "source": [
    "Wenn in der Biologie programmiert wird, dann sind oft Buchstaben im Spiel.\n",
    "\n",
    "Gensequenzen, Aminosäuresequenzen oder Textdateien aus Datenbanken, die analysiert werden.\n",
    "\n",
    "Solche Abfolgen von Buchstaben werden **Zeichenketten** genannt, englisch <b>Strings</b>."
   ]
  },
  {
   "cell_type": "markdown",
   "metadata": {},
   "source": [
    "## Die Funktion print()"
   ]
  },
  {
   "cell_type": "markdown",
   "metadata": {},
   "source": [
    "- print() Ausgabe auf den Bildschirm"
   ]
  },
  {
   "cell_type": "code",
   "execution_count": 3,
   "metadata": {},
   "outputs": [
    {
     "name": "stdout",
     "output_type": "stream",
     "text": [
      "Hello world\n"
     ]
    }
   ],
   "source": [
    "print(\"Hello world\")"
   ]
  },
  {
   "cell_type": "markdown",
   "metadata": {},
   "source": [
    "- **Argumente** in runder Klammer\n",
    "- mehrere Argumente mit Kommas getrennt"
   ]
  },
  {
   "cell_type": "code",
   "execution_count": 4,
   "metadata": {},
   "outputs": [
    {
     "name": "stdout",
     "output_type": "stream",
     "text": [
      "Hello world Hello Moon\n"
     ]
    }
   ],
   "source": [
    "print(\"Hello world\",\"Hello Moon\")"
   ]
  },
  {
   "cell_type": "markdown",
   "metadata": {},
   "source": [
    "Standard bei print() ist Leezeichen zwischen den Argumenten und eine neue Zeile am Ende.<br>\n",
    "Zwischen den Argumenten ein Tab und am Ende keine neue Zeile: sep=\"\", end=''"
   ]
  },
  {
   "cell_type": "code",
   "execution_count": 7,
   "metadata": {},
   "outputs": [
    {
     "name": "stdout",
     "output_type": "stream",
     "text": [
      "text1\ttext2text3\ttext4"
     ]
    }
   ],
   "source": [
    "print('text1','text2',end='',sep='\\t')\n",
    "print('text3','text4',end='',sep='\\t')"
   ]
  },
  {
   "cell_type": "markdown",
   "metadata": {},
   "source": [
    "## String in Anführungszeichen"
   ]
  },
  {
   "cell_type": "markdown",
   "metadata": {},
   "source": [
    "String muss immer in Anführungszeichen eingeschlossen werden.\n",
    "\n",
    "Es geht sowohl einfaches Hochkomma ' als auch doppeltes Anführungszeichen \"."
   ]
  },
  {
   "cell_type": "code",
   "execution_count": 9,
   "metadata": {},
   "outputs": [
    {
     "name": "stdout",
     "output_type": "stream",
     "text": [
      "Hello world\n",
      "Hello world\n"
     ]
    }
   ],
   "source": [
    "print(\"Hello world\")\n",
    "\n",
    "print('Hello world')"
   ]
  },
  {
   "cell_type": "markdown",
   "metadata": {},
   "source": [
    "Im gleichen String doppeltes als auch einfaches Anführungszeichen.\n",
    "\n",
    "Sinnvoll kombinieren:"
   ]
  },
  {
   "cell_type": "code",
   "execution_count": 10,
   "metadata": {},
   "outputs": [
    {
     "name": "stdout",
     "output_type": "stream",
     "text": [
      "Decartes sagte, 'Ich denke, also bin ich.'\n",
      "Precht sagte, \"Wer bin ich - und wie viele?\"\n"
     ]
    }
   ],
   "source": [
    "print(\"Decartes sagte, 'Ich denke, also bin ich.'\")\n",
    "\n",
    "print('Precht sagte, \"Wer bin ich - und wie viele?\"')"
   ]
  },
  {
   "cell_type": "markdown",
   "metadata": {},
   "source": [
    "Stings mit drei doppelten Anführungszeichen \" \" \" kann auch über mehrere Zeilen gehen."
   ]
  },
  {
   "cell_type": "code",
   "execution_count": 1,
   "metadata": {},
   "outputs": [
    {
     "name": "stdout",
     "output_type": "stream",
     "text": [
      "Hello\n",
      "World\n"
     ]
    }
   ],
   "source": [
    "print(\"\"\"Hello\n",
    "World\"\"\")"
   ]
  },
  {
   "cell_type": "markdown",
   "metadata": {},
   "source": [
    "Strings mit einfachen oder doppelten Anführungszeichen in jeder Zeile, werden in einer Zeile ausgegeben."
   ]
  },
  {
   "cell_type": "code",
   "execution_count": 2,
   "metadata": {},
   "outputs": [
    {
     "name": "stdout",
     "output_type": "stream",
     "text": [
      "erste Zeilezweite Zeile\n"
     ]
    }
   ],
   "source": [
    "print(\"erste Zeile\"\n",
    "\"zweite Zeile\")"
   ]
  },
  {
   "cell_type": "markdown",
   "metadata": {},
   "source": [
    "Variablen werden nicht in Hochkommas oder Anführungszeichen eingeschlossen."
   ]
  },
  {
   "cell_type": "code",
   "execution_count": 3,
   "metadata": {},
   "outputs": [
    {
     "name": "stdout",
     "output_type": "stream",
     "text": [
      "Wert1: 1\n"
     ]
    }
   ],
   "source": [
    "a=1\n",
    "print(\"Wert1:\",a)"
   ]
  },
  {
   "cell_type": "markdown",
   "metadata": {},
   "source": [
    "## Kommentare"
   ]
  },
  {
   "cell_type": "markdown",
   "metadata": {},
   "source": [
    "Kommentare für eine Zeile werden mit dem Zeichen # begonnen.\n",
    "Der Kommentar geht bis zum Zeilenende."
   ]
  },
  {
   "cell_type": "code",
   "execution_count": 4,
   "metadata": {},
   "outputs": [
    {
     "name": "stdout",
     "output_type": "stream",
     "text": [
      "Beispiel zu Kommentare\n"
     ]
    }
   ],
   "source": [
    "# Der Kommentar geht bis an das Ende der Linie\n",
    "# und wird nicht ausgegeben.\n",
    "\n",
    "print(\"Beispiel zu Kommentare\")"
   ]
  },
  {
   "cell_type": "markdown",
   "metadata": {},
   "source": [
    "Kommentare über mehrere Zeilen werden mit 3 Anführungszeichen oder Hochkommas (\"Triple quote\")\n",
    "\" \" \" begonnen und mit 3 Anführungszeichen \" \" \" abgeschlossen.\n",
    "\n",
    "Drei doppelte Anführungszeichen (*triple quotes*) werden für *docstrings* empfohlen (PEP257).\n",
    "docstrings sind als erklärende Definition am Anfang von Funktionen, Methoden, Klassen oder Modulen zu finden.\n"
   ]
  },
  {
   "cell_type": "code",
   "execution_count": 5,
   "metadata": {},
   "outputs": [
    {
     "name": "stdout",
     "output_type": "stream",
     "text": [
      "Beispiel zu Kommentare\n"
     ]
    }
   ],
   "source": [
    "\"\"\"\n",
    "Der Kommentar umfasst mehrere Zeilen.\n",
    "Wird mit 3 Anführungszeichen begonnen und\n",
    "abgeschlossen.\n",
    "\"\"\"\n",
    "\n",
    "print(\"Beispiel zu Kommentare\")"
   ]
  },
  {
   "cell_type": "markdown",
   "metadata": {},
   "source": [
    "## Fehlermeldungen und \"debugging\""
   ]
  },
  {
   "cell_type": "markdown",
   "metadata": {},
   "source": [
    "Python reagiert auf Fehler und zeigt eine Hilfe an.\n",
    "\n",
    "\"Debugging\" bezeichnet die Fehlersuche und -behebung.\n",
    "\n",
    "\n",
    "1. Beispiel, Code ohne Anführungszeichen"
   ]
  },
  {
   "cell_type": "code",
   "execution_count": 6,
   "metadata": {},
   "outputs": [
    {
     "ename": "SyntaxError",
     "evalue": "invalid syntax (<ipython-input-6-50a2cd2fa949>, line 1)",
     "output_type": "error",
     "traceback": [
      "\u001b[1;36m  File \u001b[1;32m\"<ipython-input-6-50a2cd2fa949>\"\u001b[1;36m, line \u001b[1;32m1\u001b[0m\n\u001b[1;33m    print(Text ohne Anfuehrungszeichen)\u001b[0m\n\u001b[1;37m               ^\u001b[0m\n\u001b[1;31mSyntaxError\u001b[0m\u001b[1;31m:\u001b[0m invalid syntax\n"
     ]
    }
   ],
   "source": [
    "print(Text ohne Anfuehrungszeichen)"
   ]
  },
  {
   "cell_type": "markdown",
   "metadata": {},
   "source": [
    "2. Beispiel, falscher Funktionsname"
   ]
  },
  {
   "cell_type": "code",
   "execution_count": 7,
   "metadata": {},
   "outputs": [
    {
     "ename": "NameError",
     "evalue": "name 'prin' is not defined",
     "output_type": "error",
     "traceback": [
      "\u001b[1;31m---------------------------------------------------------------------------\u001b[0m",
      "\u001b[1;31mNameError\u001b[0m                                 Traceback (most recent call last)",
      "\u001b[1;32m<ipython-input-7-ba6db50e8a1f>\u001b[0m in \u001b[0;36m<module>\u001b[1;34m\u001b[0m\n\u001b[1;32m----> 1\u001b[1;33m \u001b[0mprin\u001b[0m\u001b[1;33m(\u001b[0m\u001b[1;34m\"Funktionsname ist falsch\"\u001b[0m\u001b[1;33m)\u001b[0m\u001b[1;33m\u001b[0m\u001b[1;33m\u001b[0m\u001b[0m\n\u001b[0m",
      "\u001b[1;31mNameError\u001b[0m: name 'prin' is not defined"
     ]
    }
   ],
   "source": [
    "prin(\"Funktionsname ist falsch\")"
   ]
  },
  {
   "cell_type": "markdown",
   "metadata": {},
   "source": [
    "3. Anweisung über 2 Zeilen"
   ]
  },
  {
   "cell_type": "code",
   "execution_count": 8,
   "metadata": {},
   "outputs": [
    {
     "ename": "SyntaxError",
     "evalue": "EOL while scanning string literal (<ipython-input-8-fefb9f3cb1f6>, line 1)",
     "output_type": "error",
     "traceback": [
      "\u001b[1;36m  File \u001b[1;32m\"<ipython-input-8-fefb9f3cb1f6>\"\u001b[1;36m, line \u001b[1;32m1\u001b[0m\n\u001b[1;33m    print(\"Erste Zeile\u001b[0m\n\u001b[1;37m                      ^\u001b[0m\n\u001b[1;31mSyntaxError\u001b[0m\u001b[1;31m:\u001b[0m EOL while scanning string literal\n"
     ]
    }
   ],
   "source": [
    "print(\"Erste Zeile\n",
    "zweite Zeile\")"
   ]
  },
  {
   "cell_type": "markdown",
   "metadata": {},
   "source": [
    "**Zeilenumbruch mit Backlash**"
   ]
  },
  {
   "cell_type": "markdown",
   "metadata": {},
   "source": [
    "Ein Zeilenumbruch kann mit einem Rückstrich (Backlash) \\ erfolgen.\n",
    "Der Code wird diesmal ohne Fehlermeldung ausgegeben.\n",
    "\n",
    "**Achtung**. Backslash ist auch ein Markierungszeichen!"
   ]
  },
  {
   "cell_type": "code",
   "execution_count": 9,
   "metadata": {},
   "outputs": [
    {
     "name": "stdout",
     "output_type": "stream",
     "text": [
      "Erster Textzweiter Text\n"
     ]
    }
   ],
   "source": [
    "print(\"Erster Text\\\n",
    "zweiter Text\")"
   ]
  },
  {
   "cell_type": "markdown",
   "metadata": {},
   "source": [
    "## Escapezeichen <br>In der Ausgabe eine neue Zeile einfügen"
   ]
  },
  {
   "cell_type": "markdown",
   "metadata": {},
   "source": [
    "Der verkehrte Schrägstrich oder Rückstrich (\"Backslash\") ist ein Maskierungszeichen.\n",
    "\n",
    "\\ wird auch Escape- oder Fluchtzeichen genannt."
   ]
  },
  {
   "cell_type": "code",
   "execution_count": 10,
   "metadata": {},
   "outputs": [
    {
     "name": "stdout",
     "output_type": "stream",
     "text": [
      "Erste Zeile\n",
      "zweite Zeile\n"
     ]
    }
   ],
   "source": [
    "# Eine neue Zeile in einem String einfuegen\n",
    "print(\"Erste Zeile\\nzweite Zeile\")"
   ]
  },
  {
   "cell_type": "markdown",
   "metadata": {},
   "source": [
    "- \\t - tab-Zeichen\n",
    "- \\r - der Cursor spring an den Anfang der Zeile (\"carriage return\")\n",
    "- \\\\ - es wird ein Backlash ausgegeben\n",
    "- \\' - es wird ein Hochkomma ausgegeben\n",
    "- \\\" - es wird ein doppeltes Anführungszeichen ausgegeben\n",
    "- \\uxxxx - Zeichen mit Unicode, Beispiele 'Venus \\u2640, chinesisch Wasser shui \\u6C34'"
   ]
  },
  {
   "cell_type": "markdown",
   "metadata": {},
   "source": [
    "## Zeichenketten in Variablen speichern"
   ]
  },
  {
   "cell_type": "markdown",
   "metadata": {},
   "source": [
    "Eine Variable ist ein Behälter für eine Rechnungsgröße in einem Programm."
   ]
  },
  {
   "cell_type": "code",
   "execution_count": 11,
   "metadata": {},
   "outputs": [],
   "source": [
    "# Einen String in eine Variable speichern\n",
    "\n",
    "my_dna=\"CTGATCATAT\""
   ]
  },
  {
   "cell_type": "markdown",
   "metadata": {},
   "source": [
    "Es erfolgt keine Ausgabe."
   ]
  },
  {
   "cell_type": "code",
   "execution_count": 12,
   "metadata": {},
   "outputs": [
    {
     "name": "stdout",
     "output_type": "stream",
     "text": [
      "CTGATCATAT\n"
     ]
    }
   ],
   "source": [
    "# Einen String in eine Variable speichern\n",
    "\n",
    "my_dna=\"CTGATCATAT\"\n",
    "# Die Variable mit print() ausgeben\n",
    "print(my_dna)"
   ]
  },
  {
   "cell_type": "markdown",
   "metadata": {},
   "source": [
    "**Regeln für Variablennamen**<br>\n",
    "Variablennamen können jeden Buchstaben oder jede Zahl enthalten, außer eine Zahl am Anfang.\n",
    "\n",
    "Und natürlich darf kein Leerzeichen enthalten sein. Dafür wird gerne ein Unterstrich \"_\" genommen.\n",
    "\n",
    "Sonderzeichen wie $, §, % und Bindestrich \"-\" gehen nicht!\n",
    "Bindestrich wird mit dem Minuszeichen verwechselt, daher ist das Zeichen ausgeschlossen.\n",
    "\n",
    "Außerdem dürfen in Python reservierte Wörter nicht eingesetzt werden (z.B. print, and, class, import, as ...)\n",
    "\n",
    "Groß- und Kleinschreibung im Variablennamen werden unterschieden.\n",
    "\n",
    "Für den Namen der Variablen einen bezeichnenden Namen geben.\n",
    "Das bewahrt den Überblick."
   ]
  },
  {
   "cell_type": "markdown",
   "metadata": {},
   "source": [
    "## Mit Zeichenketten arbeiten"
   ]
  },
  {
   "cell_type": "markdown",
   "metadata": {},
   "source": [
    "### Zeichenketten verknüpfen (\"Concatenation\")"
   ]
  },
  {
   "cell_type": "markdown",
   "metadata": {},
   "source": [
    "Wie zwei Zahlen mit einem Pluszeichen zusammengezählt werden, können Strings mit \"+\" verknüpft werden."
   ]
  },
  {
   "cell_type": "code",
   "execution_count": 13,
   "metadata": {},
   "outputs": [
    {
     "name": "stdout",
     "output_type": "stream",
     "text": [
      "CTGAATGATGCGAT\n"
     ]
    }
   ],
   "source": [
    "# Strings verknuepfen\n",
    "\n",
    "my_dna=\"CTGA\" + \"ATGATGCGAT\"\n",
    "print(my_dna)"
   ]
  },
  {
   "cell_type": "markdown",
   "metadata": {},
   "source": [
    "Es kann auch eine Variable mit einem String verknüpft werden"
   ]
  },
  {
   "cell_type": "code",
   "execution_count": 14,
   "metadata": {},
   "outputs": [
    {
     "name": "stdout",
     "output_type": "stream",
     "text": [
      "CTGAATGATGCGAT\n"
     ]
    }
   ],
   "source": [
    "# String und Variable verknuepfen\n",
    "\n",
    "my_dna=\"CTGA\"\n",
    "print(my_dna + \"ATGATGCGAT\")"
   ]
  },
  {
   "cell_type": "markdown",
   "metadata": {},
   "source": [
    "Beachte, die Variable und der String müssen den gleichen Variablentyp haben.<br>\n",
    "Sowohl my_dna, als auch \"ATGATGCGAT\" sind Strings. Das geht also.\n",
    "\n",
    "Folgendes geht nicht."
   ]
  },
  {
   "cell_type": "code",
   "execution_count": 15,
   "metadata": {},
   "outputs": [
    {
     "ename": "TypeError",
     "evalue": "unsupported operand type(s) for +: 'int' and 'str'",
     "output_type": "error",
     "traceback": [
      "\u001b[1;31m---------------------------------------------------------------------------\u001b[0m",
      "\u001b[1;31mTypeError\u001b[0m                                 Traceback (most recent call last)",
      "\u001b[1;32m<ipython-input-15-4322346dd8cf>\u001b[0m in \u001b[0;36m<module>\u001b[1;34m\u001b[0m\n\u001b[0;32m      2\u001b[0m \u001b[1;33m\u001b[0m\u001b[0m\n\u001b[0;32m      3\u001b[0m \u001b[0mmy_dna\u001b[0m\u001b[1;33m=\u001b[0m\u001b[1;36m3\u001b[0m\u001b[1;33m\u001b[0m\u001b[1;33m\u001b[0m\u001b[0m\n\u001b[1;32m----> 4\u001b[1;33m \u001b[0mprint\u001b[0m\u001b[1;33m(\u001b[0m\u001b[0mmy_dna\u001b[0m \u001b[1;33m+\u001b[0m \u001b[1;34m\"ATGATGCGAT\"\u001b[0m\u001b[1;33m)\u001b[0m\u001b[1;33m\u001b[0m\u001b[1;33m\u001b[0m\u001b[0m\n\u001b[0m\u001b[0;32m      5\u001b[0m \u001b[1;33m\u001b[0m\u001b[0m\n\u001b[0;32m      6\u001b[0m \u001b[1;31m# Das produziert eine Fehlermeldung!\u001b[0m\u001b[1;33m\u001b[0m\u001b[1;33m\u001b[0m\u001b[1;33m\u001b[0m\u001b[0m\n",
      "\u001b[1;31mTypeError\u001b[0m: unsupported operand type(s) for +: 'int' and 'str'"
     ]
    }
   ],
   "source": [
    "# String und Variable = Zahl verknuepfen\n",
    "\n",
    "my_dna=3\n",
    "print(my_dna + \"ATGATGCGAT\")\n",
    "\n",
    "# Das produziert eine Fehlermeldung!"
   ]
  },
  {
   "cell_type": "markdown",
   "metadata": {},
   "source": [
    "Wie kann das repariert werden?"
   ]
  },
  {
   "cell_type": "markdown",
   "metadata": {},
   "source": [
    "Die wichtigsten Variablentypen sind **String** für Zeichenketten, **Integer** und **Float** für Zahlen und **Boolean** für wahr oder falsch.\n",
    "Integer sind ganze Zahlen und Float sind Fließkommazahlen (Gleitkommazahlen).\n",
    "\n",
    "Es gibt **Funktionen**, die Variablen von einem Typ in einen anderen Typ verwandeln können.\n",
    "Zum Beispiel **str()** verwandelt eine Variable vom Typ Zahl in den Typ Zeichenkette.\n",
    "Und **int()** verwandelt umgekehrt ein String in ein Integer."
   ]
  },
  {
   "cell_type": "code",
   "execution_count": 16,
   "metadata": {},
   "outputs": [
    {
     "name": "stdout",
     "output_type": "stream",
     "text": [
      "3ATGATGCGAT\n"
     ]
    }
   ],
   "source": [
    "print(str(my_dna) + \"ATGATGCGAT\")"
   ]
  },
  {
   "cell_type": "markdown",
   "metadata": {},
   "source": [
    "Mit der Funktion **type()** kann der Variablentyp ausgegeben werden.\n",
    "*print(type(my_dna))*\n",
    "gibt <type 'int'> aus."
   ]
  },
  {
   "cell_type": "code",
   "execution_count": 17,
   "metadata": {},
   "outputs": [
    {
     "name": "stdout",
     "output_type": "stream",
     "text": [
      "<class 'int'>\n"
     ]
    }
   ],
   "source": [
    "print(type(my_dna))"
   ]
  },
  {
   "cell_type": "markdown",
   "metadata": {},
   "source": [
    "### Die Länge einer Zeichenkette bestimmen (\"len\")"
   ]
  },
  {
   "cell_type": "markdown",
   "metadata": {},
   "source": [
    "Die Funktion len() bestimmt die Länge einer Zeichenkette (\"*length*\")"
   ]
  },
  {
   "cell_type": "code",
   "execution_count": 18,
   "metadata": {},
   "outputs": [
    {
     "data": {
      "text/plain": [
       "6"
      ]
     },
     "execution_count": 18,
     "metadata": {},
     "output_type": "execute_result"
    }
   ],
   "source": [
    "# Laenge einer Zeichenkette\n",
    "\n",
    "len(\"ATGCTA\")"
   ]
  },
  {
   "cell_type": "markdown",
   "metadata": {},
   "source": [
    "In der Python Eingabeaufforderung und jupyter wird etwas ausgegeben.\n",
    "\n",
    "In Programmen wird der print() Befehl benötigt."
   ]
  },
  {
   "cell_type": "code",
   "execution_count": 19,
   "metadata": {},
   "outputs": [
    {
     "name": "stdout",
     "output_type": "stream",
     "text": [
      "6\n"
     ]
    }
   ],
   "source": [
    "# Laenge einer Zeichenkette\n",
    "\n",
    "print(len(\"ATGCTA\"))"
   ]
  },
  {
   "cell_type": "markdown",
   "metadata": {},
   "source": [
    "Es kann auch folgendermaßen geschrieben werden."
   ]
  },
  {
   "cell_type": "code",
   "execution_count": 20,
   "metadata": {},
   "outputs": [
    {
     "name": "stdout",
     "output_type": "stream",
     "text": [
      "6\n"
     ]
    }
   ],
   "source": [
    "# Laenge einer Zeichenkette\n",
    "\n",
    "dna_length=len(\"ATGCTA\")\n",
    "print(dna_length)"
   ]
  },
  {
   "cell_type": "markdown",
   "metadata": {},
   "source": [
    "Welchen Datentyp hat das Ergebnis? Das Ergebnis ist eine Zahl.\n",
    "Also Achtung wenn das Ergebnis verknüpft werden soll.\n",
    "\n",
    "Folgendes geht daher wieder schief."
   ]
  },
  {
   "cell_type": "code",
   "execution_count": 21,
   "metadata": {},
   "outputs": [
    {
     "ename": "TypeError",
     "evalue": "can only concatenate str (not \"int\") to str",
     "output_type": "error",
     "traceback": [
      "\u001b[1;31m---------------------------------------------------------------------------\u001b[0m",
      "\u001b[1;31mTypeError\u001b[0m                                 Traceback (most recent call last)",
      "\u001b[1;32m<ipython-input-21-29e90751ad66>\u001b[0m in \u001b[0;36m<module>\u001b[1;34m\u001b[0m\n\u001b[0;32m      3\u001b[0m \u001b[0mmy_dna\u001b[0m\u001b[1;33m=\u001b[0m\u001b[1;34m\"ATGCTA\"\u001b[0m\u001b[1;33m\u001b[0m\u001b[1;33m\u001b[0m\u001b[0m\n\u001b[0;32m      4\u001b[0m \u001b[0mdna_length\u001b[0m\u001b[1;33m=\u001b[0m\u001b[0mlen\u001b[0m\u001b[1;33m(\u001b[0m\u001b[0mmy_dna\u001b[0m\u001b[1;33m)\u001b[0m\u001b[1;33m\u001b[0m\u001b[1;33m\u001b[0m\u001b[0m\n\u001b[1;32m----> 5\u001b[1;33m \u001b[0mprint\u001b[0m\u001b[1;33m(\u001b[0m\u001b[1;34m\"Die Laenge der DNA ist\"\u001b[0m \u001b[1;33m+\u001b[0m \u001b[0mdna_length\u001b[0m\u001b[1;33m)\u001b[0m\u001b[1;33m\u001b[0m\u001b[1;33m\u001b[0m\u001b[0m\n\u001b[0m",
      "\u001b[1;31mTypeError\u001b[0m: can only concatenate str (not \"int\") to str"
     ]
    }
   ],
   "source": [
    "# Laenge einer Zeichenkette und mit String ausgeben\n",
    "\n",
    "my_dna=\"ATGCTA\"\n",
    "dna_length=len(my_dna)\n",
    "print(\"Die Laenge der DNA ist\" + dna_length)"
   ]
  },
  {
   "cell_type": "markdown",
   "metadata": {},
   "source": [
    "Der Code kann mit der Funktion str() repariert werden.\n",
    "\n",
    "*str()* nimmt eine Zahl als Argument und gibt einen String als Rückgabewert(return value) aus."
   ]
  },
  {
   "cell_type": "code",
   "execution_count": 22,
   "metadata": {},
   "outputs": [
    {
     "name": "stdout",
     "output_type": "stream",
     "text": [
      "Die Laenge der DNA ist6\n"
     ]
    }
   ],
   "source": [
    "# Laenge einer Zeichenkette und mit String ausgeben\n",
    "\n",
    "my_dna=\"ATGCTA\"\n",
    "dna_length=len(my_dna)\n",
    "print(\"Die Laenge der DNA ist\" + str(dna_length))"
   ]
  },
  {
   "cell_type": "markdown",
   "metadata": {},
   "source": [
    "**Achtung**, die Funktion str() verändert die Variablen dna_length nicht."
   ]
  },
  {
   "cell_type": "markdown",
   "metadata": {},
   "source": [
    "## Großbuchstaben in Kleinbuchstaben und umgekehrt (\"upper\", \"lower\")"
   ]
  },
  {
   "cell_type": "markdown",
   "metadata": {},
   "source": [
    "DNA- oder Aminosäuresequenzen können in Großbuchstaben oder Kleinbuchstaben dargestellt werden.\n",
    "\n",
    "Es gibt die Methoden *lower()* und *upper()* um das durchzuführen.\n",
    "\n",
    "Methoden beziehen sich im Gegensatz zu Funktionen auf ein bestimmtes Objekt, hier auf ein 'string'-Objekt.\n",
    "\n",
    "Daher ist die Syntax anders als bei Funktionen."
   ]
  },
  {
   "cell_type": "code",
   "execution_count": 23,
   "metadata": {},
   "outputs": [
    {
     "name": "stdout",
     "output_type": "stream",
     "text": [
      "atgcta\n"
     ]
    }
   ],
   "source": [
    "# Sequenz in Kleinbuchstaben verwandeln\n",
    "\n",
    "my_dna=\"ATGCTA\"\n",
    "print(my_dna.lower())"
   ]
  },
  {
   "cell_type": "markdown",
   "metadata": {},
   "source": [
    "Die Methoden lower() und upper() funktionieren nur mit strings.\n",
    "(Ist eine Methode des 'string'-Objekts)"
   ]
  },
  {
   "cell_type": "code",
   "execution_count": 24,
   "metadata": {},
   "outputs": [
    {
     "ename": "AttributeError",
     "evalue": "'int' object has no attribute 'lower'",
     "output_type": "error",
     "traceback": [
      "\u001b[1;31m---------------------------------------------------------------------------\u001b[0m",
      "\u001b[1;31mAttributeError\u001b[0m                            Traceback (most recent call last)",
      "\u001b[1;32m<ipython-input-24-23ad5e5dab5b>\u001b[0m in \u001b[0;36m<module>\u001b[1;34m\u001b[0m\n\u001b[0;32m      3\u001b[0m \u001b[0mmy_dna\u001b[0m\u001b[1;33m=\u001b[0m\u001b[1;34m\"ATGCTA\"\u001b[0m\u001b[1;33m\u001b[0m\u001b[1;33m\u001b[0m\u001b[0m\n\u001b[0;32m      4\u001b[0m \u001b[0mdna_length\u001b[0m\u001b[1;33m=\u001b[0m\u001b[0mlen\u001b[0m\u001b[1;33m(\u001b[0m\u001b[0mmy_dna\u001b[0m\u001b[1;33m)\u001b[0m\u001b[1;33m\u001b[0m\u001b[1;33m\u001b[0m\u001b[0m\n\u001b[1;32m----> 5\u001b[1;33m \u001b[0mprint\u001b[0m\u001b[1;33m(\u001b[0m\u001b[0mdna_length\u001b[0m\u001b[1;33m.\u001b[0m\u001b[0mlower\u001b[0m\u001b[1;33m(\u001b[0m\u001b[1;33m)\u001b[0m\u001b[1;33m)\u001b[0m\u001b[1;33m\u001b[0m\u001b[1;33m\u001b[0m\u001b[0m\n\u001b[0m\u001b[0;32m      6\u001b[0m \u001b[1;33m\u001b[0m\u001b[0m\n\u001b[0;32m      7\u001b[0m \u001b[1;31m#Achtung produziert Fehler\u001b[0m\u001b[1;33m\u001b[0m\u001b[1;33m\u001b[0m\u001b[1;33m\u001b[0m\u001b[0m\n",
      "\u001b[1;31mAttributeError\u001b[0m: 'int' object has no attribute 'lower'"
     ]
    }
   ],
   "source": [
    "# len() und Methode lower\n",
    "\n",
    "my_dna=\"ATGCTA\"\n",
    "dna_length=len(my_dna)\n",
    "print(dna_length.lower())\n",
    "\n",
    "#Achtung produziert Fehler"
   ]
  },
  {
   "cell_type": "markdown",
   "metadata": {},
   "source": [
    "## Ersetzungen (\"replace\")"
   ]
  },
  {
   "cell_type": "markdown",
   "metadata": {},
   "source": [
    "Aminosäuren in einem Protein sollen gegen eine andere ausgetauscht werden.\n",
    "\n",
    "Dazu wird wieder eine Methode verwendet, die *replace()* genannt wird."
   ]
  },
  {
   "cell_type": "code",
   "execution_count": 25,
   "metadata": {},
   "outputs": [
    {
     "name": "stdout",
     "output_type": "stream",
     "text": [
      "MGDDWDLHGVVR\n"
     ]
    }
   ],
   "source": [
    "# Replacement\n",
    "\n",
    "my_protein=\"MADDWDLHAVVR\"\n",
    "#Tausche Alanin A gegen Gycin G\n",
    "print(my_protein.replace(\"A\",\"G\"))"
   ]
  },
  {
   "cell_type": "markdown",
   "metadata": {},
   "source": [
    "Es können auch mehrere Zeichen ersetzt werden."
   ]
  },
  {
   "cell_type": "code",
   "execution_count": 26,
   "metadata": {},
   "outputs": [
    {
     "name": "stdout",
     "output_type": "stream",
     "text": [
      "HILDWDLHAVVR\n"
     ]
    }
   ],
   "source": [
    "# Replacement\n",
    "\n",
    "my_protein=\"MADDWDLHAVVR\"\n",
    "#Tausche MAD gegen HIL\n",
    "print(my_protein.replace(\"MAD\",\"HIL\"))"
   ]
  },
  {
   "cell_type": "markdown",
   "metadata": {},
   "source": [
    "## Teilstrings (\"Substrings\") bestimmen - Slicing"
   ]
  },
  {
   "cell_type": "markdown",
   "metadata": {},
   "source": [
    "Aus einer Sequenz soll ein Teilstring extrahiert werden.\n",
    "Zum Beispiel wollen wir aus einer Aminosäuresequenz von der\n",
    "3. Aminosäure bis zur 6 Aminosäure die Sequenz erhalten."
   ]
  },
  {
   "cell_type": "code",
   "execution_count": 27,
   "metadata": {},
   "outputs": [
    {
     "name": "stdout",
     "output_type": "stream",
     "text": [
      "DDWD\n"
     ]
    }
   ],
   "source": [
    "# Substring\n",
    "\n",
    "my_protein=\"MADDWDLHAVVR\"\n",
    "#Gebe die 3.bis 6. Aminosaeure aus\n",
    "print(my_protein[2:6])"
   ]
  },
  {
   "cell_type": "markdown",
   "metadata": {},
   "source": [
    "Achtung bei der Zählung wird mit **0** gestartet nicht mit 1.\n",
    "Daher bedeutet 2 in my_protein[2:6] nicht die 2. sondern die 3. Aminosäure.\n",
    "\n",
    "Die Stoppstelle ist **ausschließlich**. Das heißt das Programm nimmt alles bis Index 5 aber nicht 6.\n",
    "Und da wieder mit 0 als erstes gezählt wird, bedeutet diesmal 6 auch bis einschließlich 6. Aminosäure.\n"
   ]
  },
  {
   "cell_type": "markdown",
   "metadata": {},
   "source": [
    "\n",
    "\n",
    "|  |  |  |  |  | |  |  |  |  |  |\n",
    "| --- | --- | --- | --- | --- | ---| --- | --- | --- | --- | --- |\n",
    "| -11 | -10 | -9 | -8 | -7 | -6| -5 | -4 | -3 | -2 | -1 |\n",
    "| **H** | **E** | **L** | **L** | **0** |  | **W** | **O** | **R** | **L** | **D** |\n",
    "| 0 | 1 | 2 | 3 | 4 | 5 | 6 | 7 | 8 | 9 | 10 |\n",
    "\n",
    "\n",
    "*Abb.: Index von \"Hello World\"*\n"
   ]
  },
  {
   "cell_type": "markdown",
   "metadata": {},
   "source": [
    "- *my_protein[0]* gibt das 1. Zeichen aus.\n",
    "\n",
    "- *my_protein[2:100]* gibt das Zeichen von der 3. Stelle bis an das Ende aus,\n",
    "da die Länge kleiner als 100 ist.<br>Stattdessen kann auch *my_protein[2:]* geschrieben werden, also 3. bis ans Ende.\n",
    "\n",
    "- Wenn *my_protein[:]* geschrieben wird, wird die ganze Zeichenkette ausgegeben.\n",
    "\n",
    "- *my_protein[:2]* gibt dagegen bis zur 2. aus, entspricht [0:2].\n",
    "\n",
    "- Sollen die letzten Zeichenketten bestimmt werden, kann mit minus gearbeitet werden.\n",
    "<br>*my_protein[-1]* gibt das letzte Zeichen aus.\n",
    "<br>*my_protein[-2:]* gibt die beiden letzten aus.\n",
    "\n",
    "- *my_protein[::2]* es wurde eine Schrittweite angegeben, der ganze String,\n",
    "aber nur jeder 2. Buchstabe wird ausgegeben\n",
    "\n",
    "- *my_protein[::-1]* wieder der ganze String, aber es wird umgekehrt ausgegeben."
   ]
  },
  {
   "cell_type": "markdown",
   "metadata": {},
   "source": [
    "## Anzahl der gefundenen Teilstrings (\"count\")"
   ]
  },
  {
   "cell_type": "markdown",
   "metadata": {},
   "source": [
    "Die Methode count() zählt die Anzahl der Substrings in einem String."
   ]
  },
  {
   "cell_type": "code",
   "execution_count": 28,
   "metadata": {},
   "outputs": [
    {
     "name": "stdout",
     "output_type": "stream",
     "text": [
      "Anzahl Alanin ist 2\n"
     ]
    }
   ],
   "source": [
    "# Substring zaehlen\n",
    "\n",
    "my_protein=\"MADDWDLHAVVR\"\n",
    "# Zaehle die Alanine\n",
    "alanin_count=my_protein.count('A')\n",
    "print(\"Anzahl Alanin ist \" + str(alanin_count))"
   ]
  },
  {
   "cell_type": "markdown",
   "metadata": {},
   "source": [
    "*count()* ist eine Methode mit einem Argument, das String nach dem gesucht wird.<br>\n",
    "*count()* gibt eine Zahl aus."
   ]
  },
  {
   "cell_type": "markdown",
   "metadata": {},
   "source": [
    "## Einen Substring suchen (\"find\")"
   ]
  },
  {
   "cell_type": "markdown",
   "metadata": {},
   "source": [
    "Die Methode find() gibt die Position aus, an der sich ein Zeichen befindet."
   ]
  },
  {
   "cell_type": "code",
   "execution_count": 29,
   "metadata": {},
   "outputs": [
    {
     "name": "stdout",
     "output_type": "stream",
     "text": [
      "Alanin ist an 1. Stelle\n"
     ]
    }
   ],
   "source": [
    "# Substring finden, Achtung mit Fehler\n",
    "\n",
    "my_protein=\"MADDWDLHAVVR\"\n",
    "# suche Alanine\n",
    "alanin_find=my_protein.find('A')\n",
    "print(\"Alanin ist an \" + str(alanin_find) + \". Stelle\")"
   ]
  },
  {
   "cell_type": "markdown",
   "metadata": {},
   "source": [
    "*find()* ist eine Methode mit einem Argument, der Zeichenkette nach der gesucht wird.\n",
    "Es wird eine Zahl ausgegeben."
   ]
  },
  {
   "cell_type": "markdown",
   "metadata": {},
   "source": [
    "Das Beispiel stimmt noch nicht ganz. Eigentlich müsste die 2. Stelle ausgegeben werden.<br>\n",
    "Es wird aber die 1. Stelle ausgegeben, daher<br>\n",
    "*print(\"Alanin ist an \" + str(alanin_find+1) + \". Stelle\")*\n",
    "Daran denken, dass ab 0 gezählt wird!"
   ]
  },
  {
   "cell_type": "markdown",
   "metadata": {},
   "source": [
    "**Hinweis (Fortgeschrittene):**\n",
    "Die Methode find() weist noch die zwei optionale Argumente start und end auf.<br>\n",
    "Damit kann ein substring nach mehreren Treffern abgesucht werden.<br>\n",
    "In unserem Beispiel wird mit\n",
    "*alanin_find=my_protein.find('A',2)*\n",
    "auch das 2. Alanin an 9. Stelle (Index ist 8) gefunden.\n",
    "Wird mit find() nichts gefunden, wird -1 zurückgegeben.\n",
    "Damit können mit einer **While-Schleife** alle Alanins in der Sequenz gefunden werden.\n",
    "Die Ausgabe erfolgt in einer Liste"
   ]
  },
  {
   "cell_type": "code",
   "execution_count": 2,
   "metadata": {},
   "outputs": [
    {
     "name": "stdout",
     "output_type": "stream",
     "text": [
      "Alanin wird gefunden:  [1, 8]\n"
     ]
    }
   ],
   "source": [
    "my_protein=\"MADDWDLHAVVR\"\n",
    "i=0\n",
    "matches=[]\n",
    "while i>=0:\n",
    "    i=my_protein.find('A',i)\n",
    "    if i>-1:\n",
    "        matches.append(i)\n",
    "        i+=1\n",
    "print('Alanin wird gefunden: ',matches)"
   ]
  },
  {
   "cell_type": "code",
   "execution_count": null,
   "metadata": {},
   "outputs": [],
   "source": []
  }
 ],
 "metadata": {
  "kernelspec": {
   "display_name": "Python 3",
   "language": "python",
   "name": "python3"
  },
  "language_info": {
   "codemirror_mode": {
    "name": "ipython",
    "version": 3
   },
   "file_extension": ".py",
   "mimetype": "text/x-python",
   "name": "python",
   "nbconvert_exporter": "python",
   "pygments_lexer": "ipython3",
   "version": "3.8.5"
  }
 },
 "nbformat": 4,
 "nbformat_minor": 4
}
