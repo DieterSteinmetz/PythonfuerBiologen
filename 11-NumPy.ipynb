{
 "cells": [
  {
   "cell_type": "code",
   "execution_count": 1,
   "metadata": {},
   "outputs": [
    {
     "data": {
      "text/html": [
       "<style>img[alt$=\">\"] {\n",
       "  float: right;\n",
       "}\n",
       "\n",
       "img[alt$=\"<\"] {\n",
       "  float: left;\n",
       "}\n",
       "\n",
       "img[alt$=\"><\"] {\n",
       "  display: block;\n",
       "  max-width: 100%;\n",
       "  height: auto;\n",
       "  margin: auto;\n",
       "  float: none!important;\n",
       "}</style>"
      ],
      "text/plain": [
       "<IPython.core.display.HTML object>"
      ]
     },
     "execution_count": 1,
     "metadata": {},
     "output_type": "execute_result"
    }
   ],
   "source": [
    "#load CSS File\n",
    "# https://www.dataquest.io/blog/advanced-jupyter-notebooks-tutorial/\n",
    "from IPython.display import HTML\n",
    "HTML('<style>{}</style>'.format(open('../extra.css').read()))"
   ]
  },
  {
   "cell_type": "markdown",
   "metadata": {},
   "source": [
    "# NumPy"
   ]
  },
  {
   "cell_type": "markdown",
   "metadata": {},
   "source": [
    "![numpy_logo.png <](img/numpy_logo.png)"
   ]
  },
  {
   "cell_type": "markdown",
   "metadata": {},
   "source": [
    "## NumPy ein Baustein in wissenschaftliche Berechnungen mit Python - *Data Science with Python*"
   ]
  },
  {
   "cell_type": "markdown",
   "metadata": {},
   "source": [
    "Python ist bei der Installation von der Originalwebseite ([www.python.org](www.python.org)) ziemlich klein gehalten und auf das wesentlichste beschränkt.  \n",
    "Weitere Module und Pakete können bei Bedarf importiert werden.  \n",
    "Für wissenschaftliche Berechnungen (*Scientific Computing*) fehlen wichtige Elemente.  \n",
    "Für den Bereich *Data Science* in der Informatik muss Python daher ergänzt werden.  \n",
    "\n",
    "Es wurden bereits Zeichenketten, Listen, Tupel, Sets und Dictionaries vorgestellt.  \n",
    "Wie wir bereits festgehalten haben, gibt es im Kernbereich von Python keine Datentypen für mehrdimensionale Arrays.  \n",
    "In der wissenschaftlichen Welt werden aber häufig Daten in Tabellenform ausgewertet.  \n",
    "Tabellen können mit Python mit einer \"nested list\" und for-Schleife ausgewertet werden (Tabellen auswerten).  \n",
    "Das ist aber nicht sehr effektiv und darüber hinaus sind die Programme bei riesigen Datenmengen sehr langsam.  \n",
    "Die Konkurenzprogrammiersprachen **Matlab** und **R** können das besser.  \n",
    "In den letzten Jahren sind Python Module entwickelt worden, die einen Komfort wie Matlab und die Schnelligkeit wie R bieten."
   ]
  },
  {
   "cell_type": "markdown",
   "metadata": {},
   "source": [
    "|Module für *Scientific Computing*|\n",
    "|:--|\n",
    "|NumPy|\n",
    "|pandas|\n",
    "SciPy\n",
    "|MatPlotLib|\n",
    "|scikit-learn|"
   ]
  },
  {
   "cell_type": "markdown",
   "metadata": {},
   "source": [
    " **NumPy** ist das grundlegende Modul für wissenschaftliche Datenstrukturen, die auch in den Modulen SciPy, MatPlotLib und Pandas verwendet wird.  \n",
    "NumPy ist größtenteils in der Programmiersprache C geschrieben und dadurch rasend schnell und für riesige Datenmengen geeignet.  \n",
    "\n",
    "Mit **pandas** können besonders gut Tabellen ausgewertet werden.\n",
    "Der Name \"pandas\" wurde aus \"*Paneldata*\" gebildet. Ein Beispiel wurde bereits vorgestellt (Tabelle mit Pandas).  \n",
    "Mit Pandas ist vieles bereits vorbereitet, der Code kann leichter und schneller geschrieben werden.  \n",
    "\n",
    "**SciPy** (*Scientific Python*) ist so etwas wie die Klammer für NumPy, MatPlotLib und\n",
    "bietet wichtige mathematische Analysewerkzeuge, wie Regression, Fouriertransformation.\n",
    "Sie selbst bezeichnen sich als \"*Python-based ecosystem of open-source software for mathematics, science, and engineering*\" [www.scipy.org](www.scipy.org/)  \n",
    "\n",
    "Das Modul für die Erzeugung von Diagrammen - **MatPlotLib** wurde bereits in dem Abschnitt System-Input besprochen.\n",
    "\n",
    "NumPy, SciPy, MatPlotLib und pandas können unter der zentralen Anlaufstelle [www.scipy.org](www.scipy.org/) heruntergeladen werden.  \n",
    "Ich empfehle allerdings ein Python Paketinstallation wie ***Anaconda*** zu verwenden.  \n",
    "Dort ist alles bereits in der richtigen Version und aufeinander abgestimmt enthalten. Updates können leichter durchgeführt werden.  \n",
    "\n",
    "**scikit-learn** wird zum maschinellen Lernen (\"*Machine learning*\") eingesetzt (Webseite). NumPy ist dafür grundlegend.  "
   ]
  },
  {
   "cell_type": "markdown",
   "metadata": {},
   "source": [
    "In diesem Kursteil soll **NumPy** vorgestellt werden.  \n",
    "\n",
    "Der Name NumPy kann als \"nummerisches Python\" übersetzt werden.  \n",
    "Es bietet Vektoren, Matrizen und mehrdimensionale Arrays und Funktionen zur nummerischen Berechnungen.  \n",
    "NumPy hat zwei Vorläufer *Numeric* und *Numarray* und wird seit 2006 angeboten (Wikipedia).  \n",
    "Es läuft unter Python 2 und 3, allerdings wird NumPy ab 2020 für Python 2 nicht mehr weiterentwickelt.  "
   ]
  },
  {
   "cell_type": "markdown",
   "metadata": {},
   "source": [
    "Eine Dokumentation für NumPy befindet sich unter [docs.scipy.org/doc/numpy/index.html}(docs.scipy.org/doc/numpy/index.html)  \n",
    "\n",
    "Zur weiteren Vertiefung des Themas ist das Tutorial Numerisches Python von Bernd Klein zu empfehlen.\n",
    "2019 ist der Stoff als Buch erscheinen.\n",
    "[www.python-kurs.eu/numerisches_programmieren_in_Python.php](www.python-kurs.eu/numerisches_programmieren_in_Python.php)  \n",
    "\n",
    "Das vielleicht beste Buch zu dem Thema ist von **Jake VanderPlas**. Sein Buch ist auch auf Deutsch erschienen  \n",
    "*Jake VanderPlas 2017,Data Science mit Python: Das Handbuch für den Einsatz von IPython, Jupyter, NumPy, Pandas, Matplotlib und Scikit-Learn, mitp Professional*  \n",
    "\n",
    "Auf GitHub finden sich viele Beispiele von ihm als Notebook  \n",
    "[github.com/jakevdp/PythonDataScienceHandbook/tree/master/notebooks](github.com/jakevdp/PythonDataScienceHandbook/tree/master/notebooks)"
   ]
  },
  {
   "cell_type": "markdown",
   "metadata": {},
   "source": [
    "![Macrolepiota_procera.jpg <](img/Macrolepiota_procera.jpg)"
   ]
  },
  {
   "cell_type": "markdown",
   "metadata": {},
   "source": [
    "Parasol oder Riesenschirmpilz, *Macrolepiota procera* H. Krisp, Parasol-Macrolepiota-procera, CC BY 3.0"
   ]
  },
  {
   "cell_type": "markdown",
   "metadata": {},
   "source": [
    "## Ein NumPy Array erstellen"
   ]
  },
  {
   "cell_type": "markdown",
   "metadata": {},
   "source": [
    "NumPy definiert neue Datentypen für Datenreihen, Tabellen und Matrizen.  \n",
    "Es soll ein einfaches Array erstellt werden.\n"
   ]
  },
  {
   "cell_type": "code",
   "execution_count": 3,
   "metadata": {},
   "outputs": [
    {
     "name": "stdout",
     "output_type": "stream",
     "text": [
      "[1 2 3]\n",
      "<class 'numpy.ndarray'>\n",
      "[1, 2, 3, 1, 2, 3]\n",
      "[2 4 6]\n"
     ]
    }
   ],
   "source": [
    "#NumPy einfaches Array, Vergleich mit Liste\n",
    "\n",
    "import numpy as np\n",
    "\n",
    "c=[1,2,3]\n",
    "\n",
    "arr=np.array(c)\n",
    "\n",
    "print(arr)\n",
    "print(type(arr))\n",
    "\n",
    "print(c*2)\n",
    "print(arr*2)"
   ]
  },
  {
   "cell_type": "markdown",
   "metadata": {},
   "source": [
    "Das Modul NumPy wird importiert. Es ist üblich mit ***as*** das kürzere Alias ***np*** einzuführen.  \n",
    "Ab jetzt können die Methoden mit np angesprochen werden.  \n",
    "*import numpy as np*\n",
    "\n",
    "In dem Beispiel wird das Array mit einer Liste erzeugt  \n",
    "*c=[1,2,3]*\n",
    "\n",
    "Mit der Methode ***array()*** wird mit der Liste ein eindimensionales NumPy-Array angelegt.  \n",
    "*arr=np.array(c)*  \n",
    "\n",
    "Das Array wird als *[1 2 3]* ausgegeben.  \n",
    "Beachte, im Vergleich zu der Liste fehlen die Kommas.  \n",
    "Der Datentyp ist  \n",
    "*<class 'numpy.ndarray'>*  \n",
    "\n",
    "Mit dem NumPy-Array können Berechnungen durchgeführt werden.  \n",
    "*print(arr*2)*  \n",
    "Jedes Element in der Datenreihe wird verdoppelt  \n",
    "*[2 4 6]*  \n",
    "Anders sieht das bei einer gewöhnlichen Liste aus  \n",
    "*print(c*2)*  \n",
    "Hier werden die Anzahl der Listenelemente verdoppelt  \n",
    "*[1, 2, 3, 1, 2, 3]*  \n",
    "\n",
    "Ohne NumPy ist das komplizierter.  \n",
    "Soll jedes Element in einer Liste verdoppelt werden, geht zum Beispiel umständlich über eine Schleife. \n",
    "Hier als *List Comprehension*.  \n",
    "\n",
    "\n",
    "\n"
   ]
  },
  {
   "cell_type": "code",
   "execution_count": 4,
   "metadata": {},
   "outputs": [
    {
     "name": "stdout",
     "output_type": "stream",
     "text": [
      "[2, 4, 6]\n"
     ]
    }
   ],
   "source": [
    "print([i*2 for i in c])"
   ]
  },
  {
   "cell_type": "markdown",
   "metadata": {},
   "source": [
    "**Die array-Methode**  \n",
    "Allgemein gilt für *array()*  \n",
    "***numpy.array(object, dtype)***  \n",
    "Dabei ist object irgendein Objekt, das ein Array liefert. In unserem Fall eine Liste.  \n",
    "Es könnten auch Tupel sein. Es gehen sogar auch Arrays.  \n",
    "Für mehrdimensionale Arrays stehen \"nested lists\" zur Verfügung.  \n",
    "Das wird weiter unten ausgeführt.  "
   ]
  },
  {
   "cell_type": "markdown",
   "metadata": {},
   "source": [
    "**NumPy bestimmt automatisch den Datentyp der Elemente,\n",
    "wenn der Datentyp nicht ausdrücklich angegeben wird.  \n",
    "Alle Elemente haben den gleichen Datentyp.**"
   ]
  },
  {
   "cell_type": "markdown",
   "metadata": {},
   "source": [
    "Sind alle Werte ganze Zahlen, wird *Integer* genommen, sonst *float64*.  \n",
    "Ist ein Wert eine Zeichenkette, sind alle Elemente *String*.  \n",
    "Sollen die Elemente einen bestimmten Datentyp haben, muss der Datentyp als 2. Argument angegeben werden.  \n",
    "*arr=np.array(c,np.float64)  \n",
    "arr=np.array(c,\"float64\")  \n",
    "arr=np.array(c,float) #Python nimmt float64  \n",
    "arr=np.array(c,dtype='str')  \n",
    "arr=np.array(c,dtype=np.str)*  \n",
    "\n",
    "Es kann mit ***dtype*** getestet werden  \n"
   ]
  },
  {
   "cell_type": "code",
   "execution_count": 5,
   "metadata": {},
   "outputs": [
    {
     "name": "stdout",
     "output_type": "stream",
     "text": [
      "int32\n"
     ]
    }
   ],
   "source": [
    "print(arr.dtype)"
   ]
  },
  {
   "cell_type": "markdown",
   "metadata": {},
   "source": [
    "Die Methode array() liefert ein NumPy-Objekt zurück.  \n",
    "Es wird kurz vom ***ndarray*** gesprochen.  \n",
    "<ins>N</ins>-<ins>d</ins>imensional <ins>array</ins>"
   ]
  },
  {
   "cell_type": "markdown",
   "metadata": {},
   "source": [
    "### NumPy Datentypen"
   ]
  },
  {
   "cell_type": "markdown",
   "metadata": {},
   "source": [
    "NumPy weist mehr Datentypen auf als Python.  \n",
    "[numpy.org/doc/stable/user/basics.types.html](numpy.org/doc/stable/user/basics.types.html)"
   ]
  },
  {
   "cell_type": "markdown",
   "metadata": {},
   "source": [
    "|Type||Type Code||Bemerkung||Max oder bits|\n",
    "|---||:--||:--||---|\n",
    "|int8, uint8||i1, u1||signed (i1) und unsigned* (u1), 8 bit Integer||255|\n",
    "|int16, uint16||i2, u2||16-bit Integer||65.535|\n",
    "|int32, uint32||i4, u4||32-bit Integer||2.147.483.647|\n",
    "|int64, uint64||i8, u8||64-bit Integer||4.294.967.295|\n",
    "|float16||f2||Gleitkommazahl, half \t||16 bits|\n",
    "|float32||f4 or f||Gleitkommazahl, single||32 bits|\n",
    "|float64||f8 or d||Gleitkommazahl, double||64 bits|\n",
    "|float128||f16 or g||Geitkommazahl, Quad||128 bits|\n",
    "|complex64, complex128, complex256||c8, c16, c32||Complex numbers|| | \t\n",
    "|bool||?||Bool||True False|\n",
    "|object||0||Python object|| | \t\n",
    "|string_ ||S ||Zeichenkette, Beispiel 10 Zeichen - S10||1 byte / Zeichen|\n",
    "|unicode_||U||Unicode, ,Beispiel 10 Zeichen - U10|| | \t\n"
   ]
  },
  {
   "cell_type": "markdown",
   "metadata": {},
   "source": [
    "\\*signed= Zahl von -128 bis 127  \n",
    "unsigned = vorzeichenlose Zahl, von 0 bis 255, siehe Wikipedia  \n",
    "\n",
    "Mit der der Methode ***astype()*** kann der Datentyp geändert werden.  \n"
   ]
  },
  {
   "cell_type": "code",
   "execution_count": 8,
   "metadata": {},
   "outputs": [
    {
     "name": "stdout",
     "output_type": "stream",
     "text": [
      "float64\n"
     ]
    }
   ],
   "source": [
    "arr2=arr.astype('float64')\n",
    "print(arr2.dtype)"
   ]
  },
  {
   "cell_type": "markdown",
   "metadata": {},
   "source": [
    "![Morchella_esculenta.jpg <](img/Morchella_esculenta.jpg)"
   ]
  },
  {
   "cell_type": "markdown",
   "metadata": {},
   "source": [
    "Speise- oder Rund-Morchel, *Morchella esculenta*, H. Krisp, Speise Morchel *Morchella esculenta*, CC BY 3.0"
   ]
  },
  {
   "cell_type": "markdown",
   "metadata": {},
   "source": [
    "## Mehrdimensionale Array mit *array()*"
   ]
  },
  {
   "cell_type": "markdown",
   "metadata": {},
   "source": [
    "Wie wird ein mehrdimensionales Array erstellt?  \n",
    "Mehrdimensionales Array mit einer *nested list* erstellen."
   ]
  },
  {
   "cell_type": "code",
   "execution_count": 9,
   "metadata": {},
   "outputs": [
    {
     "name": "stdout",
     "output_type": "stream",
     "text": [
      "[[1 2]\n",
      " [3 4]\n",
      " [5 6]]\n",
      "(3, 2)\n",
      "2\n"
     ]
    }
   ],
   "source": [
    "#NumPy mehrdimensionales Array\n",
    "\n",
    "import numpy as np\n",
    "\n",
    "c=[[1,2],[3,4],[5,6]]\n",
    "\n",
    "arr=np.array(c)\n",
    "\n",
    "print(arr)\n",
    "\n",
    "print(arr.shape)\n",
    "\n",
    "print(arr.ndim)"
   ]
  },
  {
   "cell_type": "markdown",
   "metadata": {},
   "source": [
    "Hier haben wir eine *nested list* als Ausgangspunkt.  \n",
    "Es ist eine 2-dimensionale Datenstruktur.  \n",
    "*c=[[1,2],[3,4],[5,6]]*\n",
    "\n",
    "Das Array-Opjekt wird erstellt  \n",
    "*arr=np.array(c)*  \n",
    "\n",
    "Mit print wird das Objekt ausgegeben  \n",
    "*[[1 2]  \n",
    "[3 4]  \n",
    "[5 6]]*\n",
    "\n",
    "Das Objekt ist wie eine Tabelle aufgebaut.  \n",
    "Die Methode shape gibt die Anzahl der Zeilen und Spalten aus  \n",
    "*(3, 2)*  \n",
    "\n",
    "Mit der Methode ndim wird die Dimension des Arrays bestimmt.  \n",
    "*2*"
   ]
  },
  {
   "cell_type": "markdown",
   "metadata": {},
   "source": [
    "### Array mit *reshape()* umbauen"
   ]
  },
  {
   "cell_type": "markdown",
   "metadata": {},
   "source": [
    "Ein *ndarray* wurde bereits erstellt. Das Array soll jetzt anders angeordnet werden.  \n",
    "Das kann mit der Methode ***reshape()*** gemacht werden."
   ]
  },
  {
   "cell_type": "code",
   "execution_count": 10,
   "metadata": {},
   "outputs": [
    {
     "name": "stdout",
     "output_type": "stream",
     "text": [
      "[[1 2]\n",
      " [3 4]\n",
      " [5 6]]\n",
      "(3, 2)\n",
      "[[1 2 3]\n",
      " [4 5 6]]\n",
      "(2, 3)\n"
     ]
    }
   ],
   "source": [
    "#NumPy reshape\n",
    "\n",
    "import numpy as np\n",
    "\n",
    "c=[[1,2],[3,4],[5,6]]\n",
    "\n",
    "arr1=np.array(c)\n",
    "\n",
    "print(arr1)\n",
    "print(arr1.shape)\n",
    "\n",
    "arr2=arr1.reshape(2,3)\n",
    "\n",
    "print(arr2)\n",
    "print(arr2.shape)"
   ]
  },
  {
   "cell_type": "markdown",
   "metadata": {},
   "source": [
    "Es wird ein ndarray angelegt  \n",
    "*arr1=np.array(c)*  \n",
    "Ausgabe\n",
    "*[[1 2]  \n",
    "[3 4]  \n",
    "[5 6]]*  \n",
    "Das hat die Anordnung *arr1.shape*\n",
    "*(3, 2)*  \n",
    "Bei diesem 2-dimensionalen Array sind das 3 Zeilen und 2 Spalten.  \n",
    "\n",
    "Mit der Methode ***reshape()*** kann diese Anordnung geändert werden  \n",
    "*arr2=arr1.reshape(2,3)*  \n",
    "\n",
    "Das ndarray arr2 hat das Aussehen  \n",
    "*[[1 2 3]  \n",
    "[4 5 6]]*  \n",
    "und die Anordnung  \n",
    "*(2, 3)*  \n",
    "\n",
    "Die Werte der Elemente wurden nicht verändert.  \n",
    "\n",
    "Es kann damit auch die Dimension geändert werden\n",
    "*arr2=arr1.reshape(6)*  \n",
    "Es wird das 1-dimensionale ndarray  \n",
    "*[1 2 3 4 5 6]*  \n",
    "erhalten.  \n",
    "\n",
    "**Achtung**, die Werte müssen zueinander passen  \n",
    "3 x 2 = 2 x 3 = 6  \n",
    "7 für das 1-dimensionales ndarray würde einen Fehler verursachen.  "
   ]
  },
  {
   "cell_type": "markdown",
   "metadata": {},
   "source": [
    "### Arrays spiegeln - transponieren"
   ]
  },
  {
   "cell_type": "markdown",
   "metadata": {},
   "source": [
    "Soll das Array um 90° gedreht werden, gibt es die Methode ***np.transpose()***."
   ]
  },
  {
   "cell_type": "code",
   "execution_count": 11,
   "metadata": {},
   "outputs": [
    {
     "name": "stdout",
     "output_type": "stream",
     "text": [
      "[[0 1 2 3 4]\n",
      " [5 6 7 8 9]]\n",
      "[[0 5]\n",
      " [1 6]\n",
      " [2 7]\n",
      " [3 8]\n",
      " [4 9]]\n"
     ]
    }
   ],
   "source": [
    "#NumPy Array Transponieren\n",
    "\n",
    "import numpy as np\n",
    "\n",
    "arr=np.arange(10).reshape(2,5)\n",
    "\n",
    "print(arr)\n",
    "\n",
    "print(np.transpose(arr))"
   ]
  },
  {
   "cell_type": "markdown",
   "metadata": {},
   "source": [
    "In dem Beispiel setzen wir die oben vorgestellte Methode ***reshape()*** ein.  \n",
    "*arr=np.arange(10).reshape(2,5)*  \n",
    "Zuerst wird ein Array gebildet  \n",
    "*arange(10)* erstellt ein 1-dimensionales ndarray mit 10 Elementen. Weitere Informationen zu *arange(*) siehe weiter unten.  \n",
    "Im nächsten Schritt wird das ndarray mit *reshape()* in ein zweidimensionales 2x5 Array verwandelt.  \n",
    "*[[0 1 2 3 4]  \n",
    "[5 6 7 8 9]]]*  \n",
    "\n",
    "Mit ***np.transpose(arr)*** wird das Array gedreht.  \n",
    "*[[0 5]  \n",
    "[1 6]  \n",
    "[2 7]  \n",
    "[3 8]  \n",
    "[4 9]]*  \n",
    "\n",
    "Das Array kann auch mit ***arr.T** transponiert werden  \n",
    "[docs.scipy.org/doc/numpy/reference/generated/numpy.ndarray.T.html](docs.scipy.org/doc/numpy/reference/generated/numpy.ndarray.T.html)  "
   ]
  },
  {
   "cell_type": "markdown",
   "metadata": {},
   "source": [
    "![Hapalopilus_nidulans_100.jpg <](img/Hapalopilus_nidulans.jpg)"
   ]
  },
  {
   "cell_type": "markdown",
   "metadata": {},
   "source": [
    "Zimtfarbene Weichporling, H. Krisp, Zimtfarbene Weichporling *Hapalopilus nidulans* or *Hapalopilus rutilans*, CC BY 3.0"
   ]
  },
  {
   "cell_type": "markdown",
   "metadata": {},
   "source": [
    "## Array erzeugen und dabei mit Zahlen füllen"
   ]
  },
  {
   "cell_type": "markdown",
   "metadata": {},
   "source": [
    "Die Funktion *array()* ist nicht die einzig Methode mit der ein *ndarray* erzeugt werden kann.  \n",
    "Häufig ist nur die Dimension eines Arrays bekannt, das erzeugt werden soll,\n",
    "das später weiter gefüllt und bearbeitet werden soll.  \n",
    "Dazu wird das Array zunächst mit einer festen Zahl (Skalar) gefüllt.  \n",
    "Es sind auch Zufallszahlen möglich.  \n",
    "\n",
    "In unserem ersten Beispiel soll ein Array gestartet werden, das nur mit Nullen gefüllt wird.  \n",
    "Im Programm knnten später die Werte eingetragen werden."
   ]
  },
  {
   "cell_type": "code",
   "execution_count": 2,
   "metadata": {},
   "outputs": [
    {
     "name": "stdout",
     "output_type": "stream",
     "text": [
      "1-dim:\n",
      " [0. 0. 0. 0. 0. 0. 0. 0. 0. 0.]\n",
      "2-dim:\n",
      " [[0. 0. 0.]\n",
      " [0. 0. 0.]]\n",
      "3-dim:\n",
      " [[[0. 0.]\n",
      "  [0. 0.]\n",
      "  [0. 0.]]\n",
      "\n",
      " [[0. 0.]\n",
      "  [0. 0.]\n",
      "  [0. 0.]]]\n",
      "(10,)\n",
      "1\n"
     ]
    }
   ],
   "source": [
    "#NumPy zeros()\n",
    "\n",
    "import numpy as np\n",
    "\n",
    "arr1=np.zeros(10)\n",
    "arr2=np.zeros((2,3))\n",
    "arr3=np.zeros((2,3,2))\n",
    "\n",
    "\n",
    "print('1-dim:\\n',arr1)\n",
    "print('2-dim:\\n',arr2)\n",
    "print('3-dim:\\n',arr3)\n",
    "\n",
    "print(arr1.shape)\n",
    "\n",
    "print(arr1.ndim)"
   ]
  },
  {
   "cell_type": "markdown",
   "metadata": {},
   "source": [
    "Es wird ein eindimensionales ndarray erzeugt  \n",
    "*arr1=np.zeros(10)*  \n",
    "\n",
    "Auf dem Bildschirm wird folgendes ausgegeben  \n",
    "*[0. 0. 0. 0. 0. 0. 0. 0. 0. 0.]*\n",
    "\n",
    "Wird zeros() mit einem Tupel aufgerufen können n-dimensionale Arrays angelegt werden.  \n",
    "*arr2=np.zeros((2,3))*  \n",
    "*[[0. 0. 0.]  \n",
    "[0. 0. 0.]]*\n",
    "\n",
    "*arr3=np.zeros((2,3,2))*\n",
    "*[[[0. 0.]  \n",
    "[0. 0.]  \n",
    "[0. 0.]]*  \n",
    "\n",
    "*[[0. 0.]  \n",
    "[0. 0.]  \n",
    "[0. 0.]]]*  \n",
    "\n",
    "Beachte die 2. Klammern gehört zu dem Tupel.  \n",
    "*arr2=np.zeros((2,3))*  \n",
    "\n",
    "Mit den Methoden *np.shape()* und *np.ndim()* kann die Struktur und die Dimension abgefragt werden.  "
   ]
  },
  {
   "cell_type": "markdown",
   "metadata": {},
   "source": [
    "#### ones,full, randint, empty, fill"
   ]
  },
  {
   "cell_type": "markdown",
   "metadata": {},
   "source": [
    "Es gibt zusätzliche Methoden, mit denen NumPy Arrays erstellt und mit einer vorgegebenen Zahl gefüllt werden können.  \n",
    "\n",
    "***np.ones()*** wird das Array mit Einsen 1 gefüllt.  \n",
    "\n",
    "Bei der Methode **np.full()*** kann eine Zahl angegeben werden mit der gefüllt wird.  \n",
    "*full()* legt ein neues Array an und füllt das mit der angegebenen Zahl.  \n"
   ]
  },
  {
   "cell_type": "code",
   "execution_count": 7,
   "metadata": {},
   "outputs": [
    {
     "data": {
      "text/plain": [
       "array([[[7, 7],\n",
       "        [7, 7],\n",
       "        [7, 7]],\n",
       "\n",
       "       [[7, 7],\n",
       "        [7, 7],\n",
       "        [7, 7]]])"
      ]
     },
     "execution_count": 7,
     "metadata": {},
     "output_type": "execute_result"
    }
   ],
   "source": [
    "arr=np.full((2,3,2),7)\n",
    "arr"
   ]
  },
  {
   "cell_type": "markdown",
   "metadata": {},
   "source": [
    "Es wird ein 2x3x2 Array erstellt und mit 7 gefüllt."
   ]
  },
  {
   "cell_type": "markdown",
   "metadata": {},
   "source": [
    "Statt fester Zahlen kann auch mit einer ***Zufallszahl*** gefüllt werden.\n",
    "Die Methoden ***rand()*** und ***randint()*** füllen mit Zufallszahlen"
   ]
  },
  {
   "cell_type": "code",
   "execution_count": 6,
   "metadata": {},
   "outputs": [
    {
     "data": {
      "text/plain": [
       "array([[[0.04612559, 0.99023605, 0.79643011],\n",
       "        [0.3235667 , 0.73666912, 0.31894483]],\n",
       "\n",
       "       [[0.36531106, 0.92364758, 0.03397731],\n",
       "        [0.57432633, 0.28200222, 0.54495259]],\n",
       "\n",
       "       [[0.26498247, 0.80644903, 0.09097043],\n",
       "        [0.64546617, 0.03956789, 0.06054696]]])"
      ]
     },
     "execution_count": 6,
     "metadata": {},
     "output_type": "execute_result"
    }
   ],
   "source": [
    "arr=np.random.rand(3,2,3)\n",
    "arr"
   ]
  },
  {
   "cell_type": "markdown",
   "metadata": {},
   "source": [
    "\n",
    "Es wird ein Array 3x2x3 erstellt und mit einer Zufallszahl von 0 bis 1 gefüllt"
   ]
  },
  {
   "cell_type": "markdown",
   "metadata": {},
   "source": [
    "Die Methode ***randint()*** ist eine Variante. Es werden ganze Zufallszahlen generiert."
   ]
  },
  {
   "cell_type": "code",
   "execution_count": 8,
   "metadata": {},
   "outputs": [
    {
     "data": {
      "text/plain": [
       "array([[4, 5, 1, 7],\n",
       "       [8, 9, 8, 4]])"
      ]
     },
     "execution_count": 8,
     "metadata": {},
     "output_type": "execute_result"
    }
   ],
   "source": [
    "arr=np.random.randint(1,10,size=(2, 4))\n",
    "arr"
   ]
  },
  {
   "cell_type": "markdown",
   "metadata": {},
   "source": [
    "Ein 2x4 Array wird mit Zufallszahlen zwischen 1 und 10 gefüllt."
   ]
  },
  {
   "cell_type": "code",
   "execution_count": 9,
   "metadata": {},
   "outputs": [
    {
     "name": "stdout",
     "output_type": "stream",
     "text": [
      "[[[0. 0.]\n",
      "  [0. 0.]\n",
      "  [0. 0.]]\n",
      "\n",
      " [[0. 0.]\n",
      "  [0. 0.]\n",
      "  [0. 0.]]]\n"
     ]
    }
   ],
   "source": [
    "#NumPy empty()\n",
    "\n",
    "import numpy as np\n",
    "\n",
    "arr=np.empty((2,3,2))\n",
    "print(arr)"
   ]
  },
  {
   "cell_type": "markdown",
   "metadata": {},
   "source": [
    "Ähnlich wie *np.zeros()* legt ***np.empty()*** ein Array.  \n",
    "Es werden zwar Nullen angezeigt. Die Werte werden aber nicht initialisiert. \n",
    "\n",
    "Das erzeugte Array kann mit einer bestimmten Zahl gefüllt werden.  \n",
    "\n",
    "Dazu wird die Methode ***fill()*** verwendet.  "
   ]
  },
  {
   "cell_type": "code",
   "execution_count": 10,
   "metadata": {},
   "outputs": [
    {
     "name": "stdout",
     "output_type": "stream",
     "text": [
      "[[[7.77 7.77]\n",
      "  [7.77 7.77]\n",
      "  [7.77 7.77]]\n",
      "\n",
      " [[7.77 7.77]\n",
      "  [7.77 7.77]\n",
      "  [7.77 7.77]]]\n"
     ]
    }
   ],
   "source": [
    "#NumPy empty() und fill()\n",
    "\n",
    "import numpy as np\n",
    "\n",
    "arr=np.empty((2,3,2))\n",
    "arr.fill(7.77)\n",
    "print(arr)"
   ]
  },
  {
   "cell_type": "markdown",
   "metadata": {},
   "source": [
    "Das array wird schneller angelgt, als mit der Methode *full()*."
   ]
  },
  {
   "cell_type": "markdown",
   "metadata": {},
   "source": [
    "#### eye, identity"
   ]
  },
  {
   "cell_type": "markdown",
   "metadata": {},
   "source": [
    "***eye()** erzeugt eine NxM Matrix mit Nullen und Einsen.  \n",
    "Die Einsen liegen diagonal zueinander.  \n",
    "Am besten wird das mit einem Beispiel verdeutlicht.  \n",
    "*eye(N, M=None, k=0, dtype=float)*  "
   ]
  },
  {
   "cell_type": "code",
   "execution_count": 11,
   "metadata": {},
   "outputs": [
    {
     "name": "stdout",
     "output_type": "stream",
     "text": [
      "[[1. 0. 0. 0. 0.]\n",
      " [0. 1. 0. 0. 0.]\n",
      " [0. 0. 1. 0. 0.]]\n"
     ]
    }
   ],
   "source": [
    "#NumPy eyes()\n",
    "\n",
    "import numpy as np\n",
    "\n",
    "arr=np.eye(3,5)\n",
    "print(arr)"
   ]
  },
  {
   "cell_type": "markdown",
   "metadata": {},
   "source": [
    "Das Array wird mit Nullen und Einsen angelegt. Die Einsen bilden eine Diagonale."
   ]
  },
  {
   "cell_type": "markdown",
   "metadata": {},
   "source": [
    "Mit einem weiteren Argument kann die Diagonale verschoben werden"
   ]
  },
  {
   "cell_type": "code",
   "execution_count": 12,
   "metadata": {},
   "outputs": [
    {
     "data": {
      "text/plain": [
       "array([[0., 1., 0., 0., 0.],\n",
       "       [0., 0., 1., 0., 0.],\n",
       "       [0., 0., 0., 1., 0.]])"
      ]
     },
     "execution_count": 12,
     "metadata": {},
     "output_type": "execute_result"
    }
   ],
   "source": [
    "arr=np.eye(3,5,1)\n",
    "arr"
   ]
  },
  {
   "cell_type": "markdown",
   "metadata": {},
   "source": [
    "k=0 ist Standardwert. Mit 1 wird die Diagonale um 1 nach rechts verschoben."
   ]
  },
  {
   "cell_type": "markdown",
   "metadata": {},
   "source": [
    "***identity()*** ist etwas einfacher  \n",
    "*identity(n, dtype=None)*  \n",
    "Es wird immer eine NxN Matrix erstellt.  \n",
    "Beispiel  "
   ]
  },
  {
   "cell_type": "code",
   "execution_count": 13,
   "metadata": {},
   "outputs": [
    {
     "data": {
      "text/plain": [
       "array([[1., 0., 0., 0.],\n",
       "       [0., 1., 0., 0.],\n",
       "       [0., 0., 1., 0.],\n",
       "       [0., 0., 0., 1.]])"
      ]
     },
     "execution_count": 13,
     "metadata": {},
     "output_type": "execute_result"
    }
   ],
   "source": [
    "arr=np.identity(4)\n",
    "arr"
   ]
  },
  {
   "cell_type": "markdown",
   "metadata": {},
   "source": [
    "## Array mit arange() und linspace()"
   ]
  },
  {
   "cell_type": "markdown",
   "metadata": {},
   "source": [
    "Die Python Funktion *range()* erzeugt ein Listenobjekt und wurde bei Schleifen besprochen.   \n",
    "Für Arrays wurde eine Funktionen entwickelt, die ähnliches leistet - ***arange()*** und ***linspace()***  "
   ]
  },
  {
   "cell_type": "markdown",
   "metadata": {},
   "source": [
    "#### ***arange()***  "
   ]
  },
  {
   "cell_type": "markdown",
   "metadata": {},
   "source": [
    "*arange()* ist extrem nützlich, wenn der **Anfangswert**(Start)- und der **Endwert**(Stop), sowie der **Abstand** zwischen 2 Werten (Step) bekannt ist.  \n",
    "\n",
    "***arange([Start,] Stop[, Step], [, dtype=None])***  "
   ]
  },
  {
   "cell_type": "code",
   "execution_count": 14,
   "metadata": {},
   "outputs": [
    {
     "name": "stdout",
     "output_type": "stream",
     "text": [
      "[0 1 2 3 4 5 6 7 8 9]\n"
     ]
    }
   ],
   "source": [
    "#NumPy arange()\n",
    "\n",
    "import numpy as np\n",
    "\n",
    "arr=np.arange(10)\n",
    "print(arr)"
   ]
  },
  {
   "cell_type": "markdown",
   "metadata": {},
   "source": [
    "Wie bei range() wird, wenn Start nicht angegeben wird, mit 0 begonnen.\n",
    "Der letzte Wert wird ignoriert.  \n",
    "\n",
    "Der Datentyp *dtype* kann wie bei *array()* angegeben werden.  \n",
    "Wird nichts eingegeben ermittelt Python aus den Werten den Datentyp.  "
   ]
  },
  {
   "cell_type": "code",
   "execution_count": 15,
   "metadata": {},
   "outputs": [
    {
     "name": "stdout",
     "output_type": "stream",
     "text": [
      "[1 3 5 7 9]\n"
     ]
    }
   ],
   "source": [
    "#NumPy arange() mit Start, Stop und Step\n",
    "\n",
    "import numpy as np\n",
    "\n",
    "arr=np.arange(1,10,2)\n",
    "print(arr)"
   ]
  },
  {
   "cell_type": "markdown",
   "metadata": {},
   "source": [
    "Start, Stop und Step sind bei arange() angegeben.  \n",
    "Es wird daher  \n",
    "[1 3 5 7 9]  \n",
    "ausgegeben.  "
   ]
  },
  {
   "cell_type": "markdown",
   "metadata": {},
   "source": [
    "#### linspace()"
   ]
  },
  {
   "cell_type": "markdown",
   "metadata": {},
   "source": [
    "Von einem **Intervall** ist der Anfangswert und Endwert bekannt, das in einem Array ausgeben werden soll.\n",
    "Diesmal wird aber die Anzahl der Zeichen festgelegt. Das kann mit der Methode ***linspace()*** gemacht werden.  \n",
    "\n",
    "***linspace(start, stop, num=50, endpoint=True, retstep=False)***"
   ]
  },
  {
   "cell_type": "code",
   "execution_count": 16,
   "metadata": {},
   "outputs": [
    {
     "name": "stdout",
     "output_type": "stream",
     "text": [
      "[ 1.  4.  7. 10.]\n"
     ]
    }
   ],
   "source": [
    "#NumPy linspace()\n",
    "\n",
    "import numpy as np\n",
    "\n",
    "arr=np.linspace(1,10,4)\n",
    "print(arr)"
   ]
  },
  {
   "cell_type": "markdown",
   "metadata": {},
   "source": [
    "Es werden, da num=4 angegeben wurde, 4 Werte ausgegeben  \n",
    "*[ 1. 4. 7. 10.]*  \n",
    "Wird für num nichts angegeben, werden 50 Werte ausgegeben.  \n",
    "Bei *endpoint = True* wird der letzte Wert mit angegeben. Das ist der Standardwert.  \n",
    "Bei *endpoint = False* fehlt der letzte Wert"
   ]
  },
  {
   "cell_type": "code",
   "execution_count": 17,
   "metadata": {},
   "outputs": [
    {
     "data": {
      "text/plain": [
       "array([1.  , 3.25, 5.5 , 7.75])"
      ]
     },
     "execution_count": 17,
     "metadata": {},
     "output_type": "execute_result"
    }
   ],
   "source": [
    "arr=np.linspace(1,10,4,False)\n",
    "arr"
   ]
  },
  {
   "cell_type": "markdown",
   "metadata": {},
   "source": [
    "Bei retstep=True wird ein Tupel ausgegeben  "
   ]
  },
  {
   "cell_type": "code",
   "execution_count": 18,
   "metadata": {},
   "outputs": [
    {
     "data": {
      "text/plain": [
       "(array([ 1.,  4.,  7., 10.]), 3.0)"
      ]
     },
     "execution_count": 18,
     "metadata": {},
     "output_type": "execute_result"
    }
   ],
   "source": [
    "arr=np.linspace(1,10,4,retstep=True)\n",
    "arr"
   ]
  },
  {
   "cell_type": "markdown",
   "metadata": {},
   "source": [
    "Der erste Wert im Tupel ist das Array und der zweite Wert ist der Abstand zwischen 2 Werten."
   ]
  },
  {
   "cell_type": "markdown",
   "metadata": {},
   "source": [
    "### Array Methoden\n",
    "\n",
    "In der folgenden Tabelle werden alle vorgestellten Methoden zur Erstellung eines NumPy-Array zusammengefasst."
   ]
  },
  {
   "cell_type": "markdown",
   "metadata": {},
   "source": [
    "|Methode||Erklärung||Syntax|\n",
    "|--:||:--||:--|\n",
    "|**array**||Array erzeugen||numpy.array(object, dtype=None)|\n",
    "|**arange**||Interval mit Anfangswert und Endwert,gleicher Abstand der Zwischenwerte||arange([start, ]stop, [step, ]dtype=None)|\n",
    "|**linspace**||Interval mit Anfangswert und Endwert,Anzahl der Zwischenwerte||linspace(start, stop, num=50, endpoint=True, retstep=False, dtype=None, axis=0)|\n",
    "|**zeros**||Mit Nullen füllen||zeros(shape, dtype=float, order='C')|\n",
    "|**ones**||Mit Einsen füllen||ones(shape, dtype=None, order='C')|\n",
    "|**empty**||Wird nicht gefüllt||empty(shape, dtype=float, order='C')|\n",
    "|**fill**||Array mit einer Zahl füllen||fill(scalar)|\n",
    "|**full**||Array erstellen und mit einer Zahl füllen||full(shape, fill_value, dtype=None, order='C')|\n",
    "|**rand**||Array mit zufälligen Zahlen||random.rand(d0, d1, ..., dn)|\n",
    "|**randint**||Array mit ganzen Zahlen füllen||randint(low, high=None, size=None, dtype='l')|\n",
    "|**eye**||2-D Array mit Nullen und Einsen. Einsen Diagonale||eye(N, M=None, k=0, dtype=<class 'float'>, order='C')|\n",
    "|**identity**||Quadtratische 2-D Array mit Einsen als Diagonale||identity(n, dtype=None)|"
   ]
  },
  {
   "attachments": {},
   "cell_type": "markdown",
   "metadata": {},
   "source": [
    "![Aleuria_aurantia.jpg <](img/Aleuria_aurantia.jpg)"
   ]
  },
  {
   "cell_type": "markdown",
   "metadata": {},
   "source": [
    "Orangerote Becherling, H. Krisp, *Aleuria aurantia*, CC BY 3.0"
   ]
  },
  {
   "cell_type": "markdown",
   "metadata": {},
   "source": [
    "## Berechnungen mit NumPy Arrays"
   ]
  },
  {
   "cell_type": "markdown",
   "metadata": {},
   "source": [
    "Der große Vorteil von NumPy Arrays ist die schnelle Verarbeitung bei Rechenoperationen.  \n",
    "\n",
    "Arrays können untereinander oder mit konstanten Zahlen addiert, subtrahiert, multipliziert oder dividiert werden.  "
   ]
  },
  {
   "cell_type": "code",
   "execution_count": 19,
   "metadata": {},
   "outputs": [
    {
     "name": "stdout",
     "output_type": "stream",
     "text": [
      "[[ 1.  2.  3.]\n",
      " [10. 20. 30.]]\n",
      "[[ 3.  4.  5.]\n",
      " [12. 22. 32.]]\n",
      "[[ 2.  4.  6.]\n",
      " [20. 40. 60.]]\n",
      "[[ 0.5  1.   1.5]\n",
      " [ 5.  10.  15. ]]\n",
      "[[  1.   4.   9.]\n",
      " [100. 400. 900.]]\n",
      "[[1.         1.41421356 1.73205081]\n",
      " [3.16227766 4.47213595 5.47722558]]\n"
     ]
    }
   ],
   "source": [
    "#NumPy Array Operations()\n",
    "\n",
    "import numpy as np\n",
    "\n",
    "arr=np.array([[1.0,2,3,],[10,20,30]])\n",
    "\n",
    "print(arr)\n",
    "print(arr+2)\n",
    "print(arr*2)\n",
    "print(arr/2)\n",
    "print(arr*arr)\n",
    "print(arr**0.5)"
   ]
  },
  {
   "cell_type": "markdown",
   "metadata": {},
   "source": [
    "Das Array-Objekt arr ist vom Datentyp \"*float64*\" da die erste Zahl 1.0 ist!  \n",
    "\n",
    "Werden Arrays miteinander berechnet (*arr\\*arr*) sollten die Arrays gleich groß sein.  \n",
    "\n",
    "Bei unterschiedlichen Größen wird von Array *broadcasting* gesprochen und es gibt spezielle Regeln.\n",
    "[cs231n.github.io/python-numpy-tutorial/#numpy-broadcasting](cs231n.github.io/python-numpy-tutorial/#numpy-broadcasting)  \n",
    "Streng genommen ist *arr\\*2* schon ein broadcasting"
   ]
  },
  {
   "attachments": {},
   "cell_type": "markdown",
   "metadata": {},
   "source": [
    "![Hysterangium_stoloniferum.jpg <](img/Hysterangium_stoloniferum.jpg)"
   ]
  },
  {
   "cell_type": "markdown",
   "metadata": {},
   "source": [
    "Rissige Schwanztrüffel, H. Krisp, *Hysterangium stoloniferum*, CC BY 3.0"
   ]
  },
  {
   "cell_type": "markdown",
   "metadata": {},
   "source": [
    "## Indizierung und Slicing"
   ]
  },
  {
   "cell_type": "markdown",
   "metadata": {},
   "source": [
    "Bis jetzt haben wir Berechnungen mit dem ganzen Array durchgeführt.  \n",
    "Die Rechenoperationen kann mit jedem Element gleichermaßen durchgeführt werden.  \n",
    "Wie kann aber nur ein Teil des Array angesprochen werden?  \n",
    "Bei Listen kann ein Wert oder ein Teilbereich mit Hilfe des Indexes und der eckigen Klammer [ ] betrachtet werden.  \n",
    "Mit dem ***Index*** bekomme ich einen Teilbereich.\n",
    "\n",
    "Arrays können mehrdimensional sein.  \n",
    "Zweidimensionale Tabellen haben Spalten oder Zeilen.  \n",
    "Ziel ist es bestimmte Zeilen oder Spalten zu erhalten.  \n",
    "Bei dreidimensionale Arrays kann man sich Schnitte für bestimmte Bereiche vorstellen.  \n",
    "Es wird bei diesem Vorgehen daher immer von \"Schneiden\" - ***Slicing*** gesprochen.  \n",
    "\n",
    "Ausführliche Informationen  \n",
    "[docs.scipy.org/doc/numpy-1.13.0/reference/arrays.indexing.html](docs.scipy.org/doc/numpy-1.13.0/reference/arrays.indexing.html)"
   ]
  },
  {
   "cell_type": "code",
   "execution_count": 20,
   "metadata": {},
   "outputs": [
    {
     "name": "stdout",
     "output_type": "stream",
     "text": [
      "[1 2]\n"
     ]
    }
   ],
   "source": [
    "#NumPy Slicing()\n",
    "\n",
    "import numpy as np\n",
    "\n",
    "arr=np.arange(10)\n",
    "\n",
    "print(arr[1:3])"
   ]
  },
  {
   "cell_type": "markdown",
   "metadata": {},
   "source": [
    "Es wird mit *arange(10)* ein *ndarray* erstellt  \n",
    "*[0 1 2 3 4 5 6 7 8 9]*  \n",
    "NumPy Arrays benutzen die gleiche Systematik für Bereiche, wie es bereits für Listen vorgestellt wurde.  \n",
    "*arr[1:3]*  \n",
    "Es wird *[1 2]* ausgegeben.  "
   ]
  },
  {
   "cell_type": "markdown",
   "metadata": {},
   "source": [
    "Slices werde in eckiger Klammer angegeben. Es gehen nur ganze Zahlen (*Integer*).  \n",
    "Wird in der Klammer nur eine Zahl, dann ist nur ein Element gemeint. Zum Beispiel *[8]*  \n",
    "Teilbereich werden mit einem Doppelpunkt getrennt *[Start:Stopp]*  \n",
    "Wie bei Python üblich wird bei 0 angefangen.  \n",
    "Das Stoppelement mit diesem Index wird nicht ausgegeben.  \n",
    "Bei *[0:2]* wird also nur das erste und zweite Element ausgegeben und nicht das Element mit Index 2.  "
   ]
  },
  {
   "cell_type": "markdown",
   "metadata": {},
   "source": [
    "**[:]** - Gesamtes Array  \n",
    "**[0]** - erstes  \n",
    "**[0:2]** - erstes und zweites  \n",
    "**[:2]** - erstes und zweites  \n",
    "**[1:]** - 2. bis Ende  \n",
    "**[-1]** - letztes \n",
    "**[-2:]** - letzten beide  \n",
    "\n",
    "**[::-1]** - Array umkehren  \n",
    "**[::2]** - ganze Liste, jedes 2. Element  \n",
    "**[0:6:2]** - ersten 6 Elemente, jedes 2. Element  "
   ]
  },
  {
   "cell_type": "markdown",
   "metadata": {},
   "source": [
    "***[...]*** entspricht *[:]*  \n",
    "Diese Schreibweise ist vorteilhaft bei mehrdimensionalen Arrays.  \n",
    "Zum Beispiel *[...,2]* stattt *[:,:,:,:,2]*  \n",
    "... ist eine sogenannte *ellipsis* (Auslassungszeichen) und kann in NumPy eingesetzt werden.  \n",
    "[How do you use the ellipsis slicing syntax in Python?](https://stackoverflow.com/questions/118370/how-do-you-use-the-ellipsis-slicing-syntax-in-python#:~:text=The%20ellipsis%20is%20used%20in,dimensional%20slice%20to%20all%20dimensions.&text=In%20your%20own%20implementations%2C%20you,for%20whatever%20you%20see%20fit.)"
   ]
  },
  {
   "cell_type": "markdown",
   "metadata": {},
   "source": [
    "### Werte im Array mit Slicing ersetzen"
   ]
  },
  {
   "cell_type": "code",
   "execution_count": 21,
   "metadata": {},
   "outputs": [
    {
     "name": "stdout",
     "output_type": "stream",
     "text": [
      "[0 1 2 3 4 5 6 7 8 9]\n",
      "[ 0 77 77  3  4  5  6  7  8  9]\n"
     ]
    }
   ],
   "source": [
    "#NumPy Slicing()\n",
    "\n",
    "import numpy as np\n",
    "\n",
    "arr=np.arange(10)\n",
    "\n",
    "print(arr)\n",
    "\n",
    "arr[1:3]=77\n",
    "\n",
    "print(arr)"
   ]
  },
  {
   "cell_type": "markdown",
   "metadata": {},
   "source": [
    "Das ursprüngliche Array war  \n",
    "*[0 1 2 3 4 5 6 7 8 9]*\n",
    "Das Array wird mit  \n",
    "*arr[1:3]=77*  \n",
    "geändert. Jetzt wird folgendes ausgegeben  \n",
    "*[ 0 77 77 3 4 5 6 7 8 9]*\n",
    "\n",
    "Das ursprüngliche Array wird nicht kopiert, die Werte werden ersetzt.  \n",
    "Da die Berechnungen in NumPy schnell sein sollen, ist dieses Vorgehen sinnvoll.  \n",
    "Eine **Kopie** kann, wenn gewünscht, mit *arr[1:3].copy()* angelegt werden.  \n",
    "\n",
    "Alle Werte auf 77 ändern, würde mit  \n",
    "*arr[:]=77*  \n",
    "gehen  \n",
    "\n",
    "Achtung, der Datentyp wird durch das ursprüngliche Array bestimmt.  \n",
    "*arr[:]=77.1*  \n",
    "77.1 wird in unserem Beispiel in die ganze Zahl 77 verwandelt.  \n"
   ]
  },
  {
   "cell_type": "markdown",
   "metadata": {},
   "source": [
    "### Indizierung bei mehrdimensionalen Arrays"
   ]
  },
  {
   "cell_type": "markdown",
   "metadata": {},
   "source": [
    "In dem folgenden Beispiel wird ein **zwei**dimensionales Array wie oben mit *arr[1]* angesprochen.  \n",
    "Diesmal wird ein eindimensionales Array ausgegeben."
   ]
  },
  {
   "cell_type": "code",
   "execution_count": 22,
   "metadata": {},
   "outputs": [
    {
     "name": "stdout",
     "output_type": "stream",
     "text": [
      "[[1 2 3]\n",
      " [4 5 6]\n",
      " [7 8 9]]\n",
      "[4 5 6]\n",
      "4\n",
      "4\n"
     ]
    }
   ],
   "source": [
    "#NumPy Indizierung mehrdimensiolales Array\n",
    "\n",
    "import numpy as np\n",
    "\n",
    "c=[[1,2,3],[4,5,6],[7,8,9]]\n",
    "\n",
    "arr=np.array(c)\n",
    "\n",
    "print(arr)\n",
    "\n",
    "print(arr[1])\n",
    "\n",
    "print(arr[1][0])\n",
    "\n",
    "print(arr[1,0])"
   ]
  },
  {
   "cell_type": "markdown",
   "metadata": {},
   "source": [
    "Für *arr[1]* wird  \n",
    "*[4 5 6]*  \n",
    "als Ergebnis auf dem Bildschirm ein eindimensionales Array ausgegeben.  \n",
    "In einer Tabelle wäre das die 2. Zeile.  \n",
    "\n",
    "Soll nur ein Element angesprochen werden, gibt es **zwei Schreibweisen**.  \n",
    "\n",
    "*arr[1][0]*  \n",
    "*arr[1,0]*  \n",
    "\n",
    "Beide Anweisungen geben die ganze Zahl 4 aus.  \n",
    "Die erste Schreibweise entspricht der Syntax von \"nested lists\".  \n",
    "Die zweite Schreibweise ist übersichtlicher.  \n",
    "\n",
    "Wenn Bereiche (zum Beispiel 1:3) ausgegeben werden sollen,\n",
    "kann nur die zweite Schreibweise verwendet werden (zum Beispiel *arr[1:3,0:2])*."
   ]
  },
  {
   "cell_type": "markdown",
   "metadata": {},
   "source": [
    "Schematisch für ein zweidimensionales Array (Tabelle) kann folgendes geschrieben werden:  \n",
    "\n",
    "***arr[Zeilenindex, Spaltenindex]***  \n",
    "\n",
    "Das wird in einer **3 x 3 Matrix** verdeutlicht:"
   ]
  },
  {
   "attachments": {},
   "cell_type": "markdown",
   "metadata": {},
   "source": [
    "![3x3matrix.PNG <](img/3x3matrix.PNG)"
   ]
  },
  {
   "cell_type": "markdown",
   "metadata": {},
   "source": [
    "Wenn in unserem Beispiel mehrere Zeilen oder mehrere Spalten ausgegeben werden sollen,\n",
    "kann das mit entsprechender Indizierung gelöst werden.  \n",
    "\n",
    "Der ursprüngliche Array für folgende Beispiele ist  \n",
    "*[[1 2 3]  \n",
    "[4 5 6]  \n",
    "[7 8 9]]*  "
   ]
  },
  {
   "cell_type": "code",
   "execution_count": 24,
   "metadata": {},
   "outputs": [
    {
     "data": {
      "text/plain": [
       "array([[1, 2, 3],\n",
       "       [4, 5, 6]])"
      ]
     },
     "execution_count": 24,
     "metadata": {},
     "output_type": "execute_result"
    }
   ],
   "source": [
    "c=[[1,2,3],[4,5,6],[7,8,9]]\n",
    "arr=np.array(c)\n",
    "\n",
    "arr[:2]"
   ]
  },
  {
   "cell_type": "markdown",
   "metadata": {},
   "source": [
    "Es ist nur etwas für die Zeile angegeben, Spalten alle.  \n",
    "Gibt die 1. und 2. Zeile aus. Index 0 und 1 in der Axis 0"
   ]
  },
  {
   "cell_type": "code",
   "execution_count": 25,
   "metadata": {},
   "outputs": [
    {
     "data": {
      "text/plain": [
       "array([[1, 2],\n",
       "       [4, 5],\n",
       "       [7, 8]])"
      ]
     },
     "execution_count": 25,
     "metadata": {},
     "output_type": "execute_result"
    }
   ],
   "source": [
    "arr[:,:2]"
   ]
  },
  {
   "cell_type": "markdown",
   "metadata": {},
   "source": [
    "Zeilen alle. Gibt die 1. und 2. Spalte aus. Index 0 und 1 in der Axis 1"
   ]
  },
  {
   "cell_type": "code",
   "execution_count": 26,
   "metadata": {},
   "outputs": [
    {
     "data": {
      "text/plain": [
       "array([[2, 3],\n",
       "       [5, 6]])"
      ]
     },
     "execution_count": 26,
     "metadata": {},
     "output_type": "execute_result"
    }
   ],
   "source": [
    "arr[:2,1:]"
   ]
  },
  {
   "cell_type": "markdown",
   "metadata": {},
   "source": [
    "Gibt die ersten beiden Zeilen (axis 0: Index bis 2) und 2.bis letzte Spalte (axis 1: Index 1 bis Ende) aus."
   ]
  },
  {
   "cell_type": "markdown",
   "metadata": {},
   "source": [
    "### Fancy Indexing"
   ]
  },
  {
   "cell_type": "markdown",
   "metadata": {},
   "source": [
    "Es kann beim Slicing auch eine Liste oder ein Array angegeben werden.  \n",
    "In dem folgenden Beispiel wird die Liste [2,1] verwendet."
   ]
  },
  {
   "cell_type": "code",
   "execution_count": 27,
   "metadata": {},
   "outputs": [
    {
     "data": {
      "text/plain": [
       "array([[7, 8, 9],\n",
       "       [4, 5, 6]])"
      ]
     },
     "execution_count": 27,
     "metadata": {},
     "output_type": "execute_result"
    }
   ],
   "source": [
    "arr[[2,1]]"
   ]
  },
  {
   "cell_type": "markdown",
   "metadata": {},
   "source": [
    "Die dritte Zeile (Index 2 wird vor der zweiten Zeile (Index 1) ausgegeben.  \n",
    "beachte die Schreibweise mit 2 eckigen Klammern. Es wird eine Liste als Index verwendet.  \n",
    "\n",
    "So können auch einzelne Zeilen nacheinander oder in anderer Reihenfolge ausgegeben werden. \n",
    "Das wird als Fancy Indexing in NumPy bezeichnet ([Jake VanderPlas](https://jakevdp.github.io/PythonDataScienceHandbook/02.07-fancy-indexing.html))"
   ]
  },
  {
   "cell_type": "markdown",
   "metadata": {},
   "source": [
    "### Ersetzen mit Indizierung"
   ]
  },
  {
   "cell_type": "markdown",
   "metadata": {},
   "source": [
    "Indizierung wird eingesetzt um Werte zu ersetzen."
   ]
  },
  {
   "cell_type": "code",
   "execution_count": 35,
   "metadata": {},
   "outputs": [
    {
     "name": "stdout",
     "output_type": "stream",
     "text": [
      "[[ 1  2  3]\n",
      " [77 77 77]\n",
      " [ 7  8  9]]\n"
     ]
    }
   ],
   "source": [
    "#NumPy Ersetzen mit Slicing, eine Zeile\n",
    "import numpy as np\n",
    "\n",
    "c=[[1,2,3],[4,5,6],[7,8,9]]\n",
    "arr=np.array(c)\n",
    "\n",
    "arr[1]=77\n",
    "\n",
    "print(arr)"
   ]
  },
  {
   "cell_type": "markdown",
   "metadata": {},
   "source": [
    "*arr[1]=77*  \n",
    "ersetzt die Werte in der 2. Zeile (axis 0 und Index 1)"
   ]
  },
  {
   "cell_type": "code",
   "execution_count": 37,
   "metadata": {},
   "outputs": [
    {
     "name": "stdout",
     "output_type": "stream",
     "text": [
      "[[ 1  2  3]\n",
      " [77  5  6]\n",
      " [ 7  8  9]]\n"
     ]
    }
   ],
   "source": [
    "arr=np.array(c)\n",
    "\n",
    "arr[1,0]=77\n",
    "print(arr)"
   ]
  },
  {
   "cell_type": "markdown",
   "metadata": {},
   "source": [
    "*arr[1,0]=77*  \n",
    "wird der Wert in der axis 0 Index 1 und axis 1 Index 0 mit 77 ersetzt"
   ]
  },
  {
   "cell_type": "markdown",
   "metadata": {},
   "source": [
    "### Boolesche Indizierung und Maskierung"
   ]
  },
  {
   "cell_type": "markdown",
   "metadata": {},
   "source": [
    "Wir möchten die Werte in einem Array aufspüren die eine bestimmte Bedingung erfüllen.  \n",
    "Es geht darum, diese Werte zu messen, zu zählen oder zu verändern.  \n",
    "\n",
    "Mit Python könnte leicht eine Schleife erstellt werden. Das ist aber nicht effektiv.  \n",
    "In NumPy werden besser ***Boolean Masks*** ([scipy-cookbook Indexing](https://scipy-cookbook.readthedocs.io/items/Indexing.html)) verwendet."
   ]
  },
  {
   "cell_type": "code",
   "execution_count": 38,
   "metadata": {},
   "outputs": [
    {
     "name": "stdout",
     "output_type": "stream",
     "text": [
      "[[1 2 3]\n",
      " [0 0 0]\n",
      " [7 8 9]]\n",
      "[[False False False]\n",
      " [ True  True  True]\n",
      " [False False False]]\n",
      "[0 0 0]\n"
     ]
    }
   ],
   "source": [
    "#NumPy Boolesche Maskierung\n",
    "import numpy as np\n",
    "\n",
    "c=[[1,2,3],[0,0,0],[7,8,9]]\n",
    "arr=np.array(c)\n",
    "\n",
    "print(arr)\n",
    "\n",
    "mask = arr == 0\n",
    "\n",
    "print(mask)\n",
    "\n",
    "print(arr[mask])"
   ]
  },
  {
   "cell_type": "markdown",
   "metadata": {},
   "source": [
    "Es wird ein zweidimensionales ndarray erstellt  \n",
    "*arr=np.array(c)*  \n",
    "\n",
    "Es wird folgendes mit *print(arr)* ausgegeben  \n",
    "*[[1 2 3]  \n",
    "[0 0 0]  \n",
    "[7 8 9]]*  \n",
    "\n",
    "Der nächste Schritt ist die Boolesche Maske mit allen Werten, die 0 aufweisen  \n",
    "*mask = arr == 0*\n",
    "\n",
    "Die Ausgabe mit *print(arr)* ist folgendermaßen  \n",
    "*[[False False False]  \n",
    "[ True True True]  \n",
    "[False False False]]*  \n",
    "\n",
    "Diese Boolesche Maske kann jetzt eingesetzt werden, um die entsprechenden Werte herauszufischen  \n",
    "*arr[mask]*  \n",
    "\n",
    "Es gehen alle **arithmetische Operatoren** (>, <, ==, !=) und **logische Operatoren** (*and* geschrieben als &, *or* geschrieben als |).  \n",
    "Achtung, die Bezeichnungen für logischen Operatoren *and* und *or* gehen in Arrays nicht.  \n",
    "\n",
    "In unserem Beispiel wollen wir die Werte in dem Array noch verändern.  "
   ]
  },
  {
   "cell_type": "code",
   "execution_count": 39,
   "metadata": {},
   "outputs": [
    {
     "name": "stdout",
     "output_type": "stream",
     "text": [
      "[[1 2 3]\n",
      " [1 1 1]\n",
      " [7 8 9]]\n"
     ]
    }
   ],
   "source": [
    "#NumPy Boolesche Maskierung, Werte ändern\n",
    "import numpy as np\n",
    "\n",
    "c=[[1,2,3],[0,0,0],[7,8,9]]\n",
    "arr=np.array(c)\n",
    "\n",
    "mask= arr == 0\n",
    "\n",
    "arr[mask]=1\n",
    "\n",
    "print(arr)"
   ]
  },
  {
   "cell_type": "markdown",
   "metadata": {},
   "source": [
    "### Array Operationen mit der Bedingung *where*"
   ]
  },
  {
   "cell_type": "markdown",
   "metadata": {},
   "source": [
    "Alternativ zur *Boolean Mask* kann die ***where()*** Methode verwenden werden.  \n",
    "\n",
    "***np.where(condition[, x, y])***  \n",
    "\n",
    "*condition* - Bedingung  \n",
    "x - Array oder Skalar, wenn die Bedingung zutrifft  \n",
    "y- Array oder Skalar, wenn die Bedingung nicht zutrifft  \n",
    "\n",
    "[docs.scipy.org/doc/numpy/reference/generated/numpy.where.html](https://numpy.org/doc/stable/reference/generated/numpy.where.html)  \n",
    "\n",
    "Hier ein Beispiel, das das deutlicher macht.  "
   ]
  },
  {
   "cell_type": "code",
   "execution_count": 40,
   "metadata": {},
   "outputs": [
    {
     "name": "stdout",
     "output_type": "stream",
     "text": [
      "[[1 2 3]\n",
      " [1 1 1]\n",
      " [7 8 9]]\n"
     ]
    }
   ],
   "source": [
    "#NumPy where()\n",
    "import numpy as np\n",
    "\n",
    "c=[[1,2,3],[0,0,0],[7,8,9]]\n",
    "\n",
    "arr=np.array(c)\n",
    "\n",
    "arr2=np.where(arr == 0,1,arr)\n",
    "\n",
    "print(arr2)"
   ]
  },
  {
   "cell_type": "markdown",
   "metadata": {},
   "source": [
    "Die Aufgabenstellung ist genau wie oben. Es wird ein Array erstellt  \n",
    "*arr=np.array(c)*  \n",
    "\n",
    "Mit der Methode *where()* wird ein neues Array ausgegeben    \n",
    "*arr2=np.where(arr == 0,1,arr)*  \n",
    "\n",
    "Die Ausgabe ist  \n",
    "*[[1 2 3]  \n",
    "[1 1 1]  \n",
    "[7 8 9]]*  \n",
    "\n",
    "Eine kleine Abwandlung macht den Vorteil im Vergleich zu einer Boolesche Maske sichtbar.  \n",
    "Es sollen alle Werte größer 5 mit 1 und alle Werte kleiner 5 mit 0 eingesetzt werden.  "
   ]
  },
  {
   "cell_type": "code",
   "execution_count": 44,
   "metadata": {},
   "outputs": [
    {
     "name": "stdout",
     "output_type": "stream",
     "text": [
      "[[0 0 0]\n",
      " [0 0 1]\n",
      " [1 1 1]]\n"
     ]
    }
   ],
   "source": [
    "c=[[1,2,3],[4,5,6],[7,8,9]]\n",
    "arr=np.array(c)\n",
    "\n",
    "arr2=np.where(arr > 5,1,0)\n",
    "\n",
    "print(arr2)"
   ]
  },
  {
   "cell_type": "markdown",
   "metadata": {},
   "source": [
    "Ausgangsarray arr ist \n",
    "*[[1 2 3]  \n",
    "[4 5 6]  \n",
    "[7 8 9]]*  \n",
    "\n",
    "Mit der Zeile \n",
    "*arr2=np.where(arr > 5,1,0)*  \n",
    "wird folgendes erhalten  \n",
    "*[[0 0 0]  \n",
    "[0 0 1]  \n",
    "[1 1 1]]*  "
   ]
  },
  {
   "cell_type": "markdown",
   "metadata": {},
   "source": [
    "## Array sortieren"
   ]
  },
  {
   "cell_type": "markdown",
   "metadata": {},
   "source": [
    "NumPy hält viele Werkzeuge zur Sortierung der Arrays bereit.  \n",
    "\n",
    "Ein eindimensionales Array wird am besten mit ***sort()*** sortiert.  "
   ]
  },
  {
   "cell_type": "code",
   "execution_count": 45,
   "metadata": {},
   "outputs": [
    {
     "name": "stdout",
     "output_type": "stream",
     "text": [
      "[1 2 3 7]\n"
     ]
    }
   ],
   "source": [
    "#NumPy Array sortieren\n",
    "\n",
    "import numpy as np\n",
    "\n",
    "arr=np.array([3,2,1,7])\n",
    "\n",
    "arr.sort()\n",
    "\n",
    "print(arr)"
   ]
  },
  {
   "cell_type": "markdown",
   "metadata": {},
   "source": [
    "Das Array wird erstellt  \n",
    "*arr=np.array([3,2,1,7])*  \n",
    "und mit folgendem Code sortiert  \n",
    "*arr.sort()* \n",
    "Das ist sehr effektiv, da kein neues Array geschrieben wird (\"in place\").  \n",
    "\n",
    "Es kann stattdessen auch in eine neue Variable geschrieben werden.  \n",
    "Achtung, andere Syntax.  \n",
    "***arr_sort=np.sort(arr)***"
   ]
  },
  {
   "cell_type": "markdown",
   "metadata": {},
   "source": [
    "Interessanter ist die Aufgabe in einem 2-dimensionalen Array die Zeilen oder Spalten zu sortieren."
   ]
  },
  {
   "cell_type": "code",
   "execution_count": 46,
   "metadata": {},
   "outputs": [
    {
     "name": "stdout",
     "output_type": "stream",
     "text": [
      "[[5 8 8 1 4]\n",
      " [7 0 5 8 2]\n",
      " [9 2 7 4 6]\n",
      " [3 2 9 0 1]]\n",
      "[[3 0 5 0 1]\n",
      " [5 2 7 1 2]\n",
      " [7 2 8 4 4]\n",
      " [9 8 9 8 6]]\n"
     ]
    }
   ],
   "source": [
    "#NumPy Array sortieren, Spaltenweise\n",
    "\n",
    "import numpy as np\n",
    "\n",
    "arr=np.random.randint(0,10,(4,5))\n",
    "\n",
    "arr_sort=np.sort(arr,axis=0)\n",
    "\n",
    "print(arr)\n",
    "print(arr_sort)"
   ]
  },
  {
   "cell_type": "markdown",
   "metadata": {},
   "source": [
    "Es wird ein 4 x 5 Array mit ganzen Zufallszahlen erstellt. Siehe *randint()*.  \n",
    "*arr=np.random.randint(0,10,(4,5))*  \n",
    "\n",
    "Mit der sort-Methode wird das Array in der Axis 0 sortiert. Das heißt **spaltenweise**.   \n",
    "*arr_sort=np.sort(arr,axis=0)*  \n",
    "\n",
    "**Zeilenweise** sortieren wird durch die Angabe der anderen Achse durchgeführt."
   ]
  },
  {
   "cell_type": "code",
   "execution_count": 47,
   "metadata": {},
   "outputs": [
    {
     "data": {
      "text/plain": [
       "array([[1, 4, 5, 8, 8],\n",
       "       [0, 2, 5, 7, 8],\n",
       "       [2, 4, 6, 7, 9],\n",
       "       [0, 1, 2, 3, 9]])"
      ]
     },
     "execution_count": 47,
     "metadata": {},
     "output_type": "execute_result"
    }
   ],
   "source": [
    "arr_sort2=np.sort(arr,axis=1)\n",
    "arr_sort2"
   ]
  },
  {
   "cell_type": "markdown",
   "metadata": {},
   "source": [
    "**Hinweis**: Jede Spalte bzw. jede Zeile wird unabhängig von den anderen Spalten sortiert!  \n",
    "Wie kann sortiert werden, wie wir das von Excel Tabellen gewohnt sind?   \n",
    "Für eine Lösung brauchen wir den nächsten Abschnitt **Strukturierte Arrays**.  \n",
    "\n",
    "[stackoverflow.com/questions/2828059/sorting-arrays-in-numpy-by-column](https://stackoverflow.com/questions/2828059/sorting-arrays-in-numpy-by-column)"
   ]
  },
  {
   "attachments": {},
   "cell_type": "markdown",
   "metadata": {},
   "source": [
    "![Boletus_edulis.jpg <](img/Boletus_edulis.jpg)"
   ]
  },
  {
   "cell_type": "markdown",
   "metadata": {},
   "source": [
    "Gemeine Steinpilz, H. Krisp, *Boletus edulis*, CC BY 3.0"
   ]
  },
  {
   "cell_type": "markdown",
   "metadata": {},
   "source": [
    "## Strukturierte Arrays - heterogener Datentypen"
   ]
  },
  {
   "cell_type": "markdown",
   "metadata": {},
   "source": [
    "NumPy Arrays haben einen einheitlichen Datentyp.  \n",
    "Das haben wir bei der Vorstellung der Methode *array()* kennengelernt.  \n",
    "Viele Tabellen enthalten aber in jeder Spalte unterschiedliche Datentypen (Excel Tabellen, CSV-Tabellen).  \n",
    "Wie kann das in einen NumPy Array überführt werden?  \n",
    "\n",
    "In NumPy sind dafür \"**strukturierte Arrays**\" vorgesehen.  \n",
    "Wenn es nicht um Geschwindigkeit geht ist die bessere Alternative **pandas**."
   ]
  },
  {
   "cell_type": "code",
   "execution_count": 48,
   "metadata": {},
   "outputs": [
    {
     "name": "stdout",
     "output_type": "stream",
     "text": [
      "[('species', '<U10'), ('position', '<i4'), ('expr', '<f8')]\n",
      "[('Boletus',   25, 0.12) ('Hysterangi',  512, 8.5 )\n",
      " ('Morchella', 1034, 7.1 )]\n"
     ]
    }
   ],
   "source": [
    "#NumPy Strukturierter Array\n",
    "import numpy as np\n",
    "\n",
    "species = ['Boletus', 'Hysterangium', 'Morchella']\n",
    "position = [25, 512, 1034]\n",
    "expr = [0.12, 8.5, 7.1]\n",
    "\n",
    "\n",
    "fungus=np.zeros(3,dtype={'names':('species','position','expr'),\n",
    "'formats':('U10', 'i4', 'f8')})\n",
    "\n",
    "print(fungus.dtype)\n",
    "\n",
    "fungus['species'] = species\n",
    "fungus['position'] = position\n",
    "fungus['expr'] = expr\n",
    "\n",
    "print(fungus)"
   ]
  },
  {
   "cell_type": "markdown",
   "metadata": {},
   "source": [
    "Wir haben Daten von drei Pilzen - *Boletus*, *Hysterangium*, *Morchella* - , die auf Genaktivität untersucht wurden.  \n",
    "Das erste Ergebnis sind Daten zu der Position, das sind ganze Zahlen. Die Expression ist eine Fließkommazahl.  \n",
    "Das wurde in den 3 Listen *species*, *position* und *expr* wiedergegeben.  \n",
    "Den Datentyp stellt Python automatisch ein.  \n",
    "\n",
    "Allerdings ist das noch keine Tabelle, da die Listen nicht aufeinander bezogen sind.  \n",
    "\n",
    "Die Tabelle wird mit der Methode *zeros()* erstellt. Es würde auch andere array_Methoden gehen, die das dtype Argument nehmen.  \n",
    "*fungus=np.zeros(3,dtype={'names':('species','position','expr'),'formats':('U10', 'i4', 'f8')})*\n",
    "\n",
    "*dtype* ist hier ein Dictionary mit den *key* '*names*' und den *values* für die Spaltenüberschriften *species*, *positions* und *expr*.  \n",
    "Das Format für die einzelnen Spalten wird mit dem *key* '*formats*' und den *values* U10, i4 und f8 festgelegt.  \n",
    "U10 ist ein String, Unicode mit 10 Zeichen.  \n",
    "i4 ist ein 4 Byte oder 32 Bit Integer und f8 ist eine 8 Byte oder 64 Bit Float, Gleitkommazahl.\n",
    "\n",
    "Das Array wird mit den Listen gefüllt.  \n",
    "*fungus['species'] = species  \n",
    "fungus['position'] = position  \n",
    "fungus['expr'] = expr_level*  \n",
    "\n",
    "Die Datentypen der Spalten wird mit *print(fungus.dtype)* ausgegeben.  \n",
    "*[('species', '<U10'), ('position', '<i4'), ('expr', '<f8')]*  \n",
    "\n",
    "Die < Zeichen zeigen die Reihenfolge der signifikanten bits im Speicher an, das Zeichen < bedeutet \"little endian\" das Zeichen > wäre dann \"big endian\".  \n",
    "\n",
    "Die ganze Tabelle wird auf den Bildschirm ausgegeben  \n",
    "*[('Boletus', 25, 123. )  \n",
    "('Hysterangi', 512, 22.5)  \n",
    "('Morchella', 1034, 100.1)]*  "
   ]
  },
  {
   "cell_type": "markdown",
   "metadata": {},
   "source": [
    "Bereiche in strukturierten Arrays können leicht angesprochen werden."
   ]
  },
  {
   "cell_type": "code",
   "execution_count": 49,
   "metadata": {},
   "outputs": [
    {
     "name": "stdout",
     "output_type": "stream",
     "text": [
      "('Boletus', 25, 0.12)\n",
      "['Boletus' 'Hysterangi' 'Morchella']\n",
      "['Hysterangi' 'Morchella']\n"
     ]
    }
   ],
   "source": [
    "print(fungus[0])\n",
    "print(fungus['species'])\n",
    "print(fungus[fungus['expr']>1]['species'])\n"
   ]
  },
  {
   "cell_type": "markdown",
   "metadata": {},
   "source": [
    "Die Anweisung *print(fungus[0])* gibt die 1. Zeile der Tabelle aus  \n",
    "*('Boletus', 25, 0.12)*  \n",
    "\n",
    "Es kann auch eine Spalte ausgegeben werden.  \n",
    "*print('species')*  \n",
    "*['Boletus', 'Hysterangium', 'Morchella']*  \n",
    "\n",
    "*print([species])*  \n",
    "*[['Boletus', 'Hysterangium', 'Morchella']]*  \n",
    "\n",
    "Im letzten Beispiel wird mit einer Booleschen Maske Teile aus der Tabelle gefischt.  \n",
    "*fungus[fungus['expr']>1]['species']*  \n",
    "Alle Spezies mit Expression größer 1 werden ausgegeben  \n",
    "*['Hysterangi' 'Morchella']*"
   ]
  },
  {
   "cell_type": "markdown",
   "metadata": {},
   "source": [
    "Zum Abschluss soll noch gezeigt werden, wie mit der Methode *array()* und Tupels statt Dictionary ein strukturierter Array gebildet wird."
   ]
  },
  {
   "cell_type": "code",
   "execution_count": 51,
   "metadata": {},
   "outputs": [
    {
     "name": "stdout",
     "output_type": "stream",
     "text": [
      "[('Boletus',   25, 0.12) ('Hysterangi',  512, 8.5 )\n",
      " ('Morchella', 1034, 7.1 )]\n",
      "[('species', '<U10'), ('position', '<i4'), ('expr', '<f8')]\n"
     ]
    }
   ],
   "source": [
    "#NumPy Strukturierter Array, mit array()\n",
    "\n",
    "import numpy as np\n",
    "\n",
    "dt = np.dtype([('species', 'U10'),\n",
    "('position', 'i4'),\n",
    "('expr', 'f8')])\n",
    "fungus = np.array([('Boletus', 25, 0.12),\n",
    "                    ('Hysterangi', 512, 8.5 ),\n",
    "                    ('Morchella', 1034, 7.1 )],\n",
    "                    dtype=dt)\n",
    "print(fungus)\n",
    "print(fungus.dtype)"
   ]
  },
  {
   "cell_type": "markdown",
   "metadata": {},
   "source": [
    "Mit strukturierten Arrays können in NumPy Spalten mit unterschiedlichen Datentypen behandelt werden.  \n",
    "Vorteil ist, das Programm wird schnell verarbeitet.  \n",
    "Der entscheidnde Nachteil ist, dass es nicht viele Möglichkeiten gibt, damit zu arbeiten.  \n",
    "\n",
    "Daher wurde **pandas** entwickelt. Eine wunderbare Überleitung zum Abschnitt pandas. "
   ]
  },
  {
   "attachments": {},
   "cell_type": "markdown",
   "metadata": {},
   "source": [
    "![Hypogymnia_physodes_100.jpg <](img/Hypogymnia_physodes.jpg)"
   ]
  },
  {
   "cell_type": "markdown",
   "metadata": {},
   "source": [
    "Blasenflechte, H. Krisp, Hypogymnia-physodes-blasenflechte, CC BY 3.0\n"
   ]
  },
  {
   "cell_type": "markdown",
   "metadata": {},
   "source": [
    "## NumPy Datensatz speichern und öffnen"
   ]
  },
  {
   "cell_type": "markdown",
   "metadata": {},
   "source": [
    "Wir haben bereits in dem Abschnitt Dateien aus einem Python Dateien gelesen und geschrieben.  \n",
    "Dazu wurden die Dateien geöffnet und den Inhalt in eine String Variable geschrieben oder die Datei sequenziell in einer for-Schleife ausgelesen.  \n",
    "\n",
    "NumPy bringt eigene bessere Werkzeuge mit, um in Dateien zu lesen und zu schreiben.  "
   ]
  },
  {
   "cell_type": "markdown",
   "metadata": {},
   "source": [
    "### Textdateien mit *savetext* und *loadtxt*"
   ]
  },
  {
   "cell_type": "markdown",
   "metadata": {},
   "source": [
    "Um einen 2D-Array als Textdatei zu speichern ist die Methode savetxt() vorhanden."
   ]
  },
  {
   "cell_type": "code",
   "execution_count": 52,
   "metadata": {},
   "outputs": [
    {
     "name": "stdout",
     "output_type": "stream",
     "text": [
      "[[ 0  1  2]\n",
      " [ 3  4  5]\n",
      " [ 6  7  8]\n",
      " [ 9 10 11]]\n"
     ]
    }
   ],
   "source": [
    "#NumPy savetxt\n",
    "\n",
    "import numpy as np\n",
    "\n",
    "c=np.arange(12).reshape(4,3)\n",
    "\n",
    "np.savetxt('data.txt',c)\n",
    "\n",
    "print(c)"
   ]
  },
  {
   "cell_type": "markdown",
   "metadata": {},
   "source": [
    "Es wird mit arange und reshape eine einfaches Array erstellt.  \n",
    "*c=np.arange(12).reshape(4,3)*\n",
    "\n",
    "Das Array sieht folgendermaßen aus  \n",
    "*[[ 0 1 2]  \n",
    "[ 3 4 5]  \n",
    "[ 6 7 8]  \n",
    "[ 9 10 11]]*  \n",
    "\n",
    "Mit *savetxt()* wird das in die Textdatei data.txt gespeichert.  \n",
    "*np.savetxt('data.txt',c)*  \n",
    "\n",
    "Wird die Textdatei geöffnet, haben die Zahlen folgendes Aussehen.\n",
    "\n",
    "0.000000000000000000e+00 1.000000000000000000e+00 2.000000000000000000e+00\n",
    "3.000000000000000000e+00 4.000000000000000000e+00 5.000000000000000000e+00\n",
    "6.000000000000000000e+00 7.000000000000000000e+00 8.000000000000000000e+00\n",
    "9.000000000000000000e+00 1.000000000000000000e+01 1.100000000000000000e+01  \n",
    "\n",
    "\n",
    "Das Zahlenformat hat die Standardeinstellung \"%.18e\". Das **Trennzeichen** ist ein Leerzeichen.  \n",
    "\n",
    "savetxt() hat folgende Argumente:  \n",
    "\n",
    "***savetxt(fname, X, fmt='%.18e', delimiter=' ', newline='\\n', header='', footer='', comments='# ', encoding=None)***  "
   ]
  },
  {
   "cell_type": "markdown",
   "metadata": {},
   "source": [
    "Um die Tabelle mit ';' Trennzeichen und als Integer zu speichern werden die Optionen delimiter=';' und fmt='i' eingegeben."
   ]
  },
  {
   "cell_type": "code",
   "execution_count": 53,
   "metadata": {},
   "outputs": [],
   "source": [
    "np.savetxt('data2.txt',c, fmt='%i', delimiter=';')"
   ]
  },
  {
   "cell_type": "markdown",
   "metadata": {},
   "source": [
    "Mit der Methode ***loadtxt()*** kann eine Textdatei als Array geöffnet werden."
   ]
  },
  {
   "cell_type": "code",
   "execution_count": 54,
   "metadata": {},
   "outputs": [
    {
     "name": "stdout",
     "output_type": "stream",
     "text": [
      "[[ 0.  1.  2.]\n",
      " [ 3.  4.  5.]\n",
      " [ 6.  7.  8.]\n",
      " [ 9. 10. 11.]]\n"
     ]
    }
   ],
   "source": [
    "#NumPy loadtxt\n",
    "\n",
    "import numpy as np\n",
    "\n",
    "arr=np.loadtxt('data.txt')\n",
    "\n",
    "print(arr)"
   ]
  },
  {
   "cell_type": "markdown",
   "metadata": {},
   "source": [
    "Die Textdatei liegt wie oben im gleichen Ordner wie der Pythoncode und sieht auch wie im Ausgangsbeispiel folgendermaßen aus.  \n",
    "0.000000000000000000e+00 1.000000000000000000e+00 2.000000000000000000e+00\n",
    "3.000000000000000000e+00 4.000000000000000000e+00 5.000000000000000000e+00\n",
    "6.000000000000000000e+00 7.000000000000000000e+00 8.000000000000000000e+00\n",
    "9.000000000000000000e+00 1.000000000000000000e+01 1.100000000000000000e+01.  \n",
    "\n",
    "Mit der Methode und den Standartoptionen kann die Textdatei in einen Array geladen werden \n",
    "\n",
    "*arr=np.loadtxt('data.txt')*\n",
    "\n",
    "Das Array wird auf dem Bildschirm ausgegeben  \n",
    "*[[ 0. 1. 2.]  \n",
    "[ 3. 4. 5.]  \n",
    "[ 6. 7. 8.]  \n",
    "[ 9. 10. 11.]]*  \n",
    "\n",
    "Die Optionen für loadtxt() sind  \n",
    "\n",
    "***loadtxt(fname, dtype=<class 'float'>, comments='#', delimiter=None, \\\n",
    "converters=None, skiprows=0, usecols=None, unpack=False, ndmin=0, encoding='bytes')***  \n",
    "\n",
    "\n",
    "Liegt die Textdatei mit ';' Trennzeichen und Integer Zahlen, wie in der Abwandlung oben, vor.  \n",
    "*0;1;2  \n",
    "3;4;5  \n",
    "6;7;8  \n",
    "9;10;11*  \n",
    "\n",
    "Dann müssen für loadtxt() die folgenden Optionen eingegeben werden.  "
   ]
  },
  {
   "cell_type": "code",
   "execution_count": 56,
   "metadata": {},
   "outputs": [
    {
     "data": {
      "text/plain": [
       "array([[ 0,  1,  2],\n",
       "       [ 3,  4,  5],\n",
       "       [ 6,  7,  8],\n",
       "       [ 9, 10, 11]], dtype=int32)"
      ]
     },
     "execution_count": 56,
     "metadata": {},
     "output_type": "execute_result"
    }
   ],
   "source": [
    "arr=np.loadtxt('data2.txt',delimiter=';',dtype='i')\n",
    "arr"
   ]
  },
  {
   "cell_type": "markdown",
   "metadata": {},
   "source": [
    "Es wird das folgende Array ausgegeben.  \n",
    "*[[ 0 1 2]  \n",
    "[ 3 4 5]  \n",
    "[ 6 7 8]  \n",
    "[ 9 10 11]]*  "
   ]
  },
  {
   "cell_type": "markdown",
   "metadata": {},
   "source": [
    "Mit der Option ***usecols*** können nur bestimmte Spalten geladen werden.\n"
   ]
  },
  {
   "cell_type": "code",
   "execution_count": 58,
   "metadata": {},
   "outputs": [
    {
     "data": {
      "text/plain": [
       "array([[ 0,  2],\n",
       "       [ 3,  5],\n",
       "       [ 6,  8],\n",
       "       [ 9, 11]], dtype=int32)"
      ]
     },
     "execution_count": 58,
     "metadata": {},
     "output_type": "execute_result"
    }
   ],
   "source": [
    "arr=np.loadtxt('data2.txt',delimiter=';',dtype='i',usecols=(0,2))\n",
    "arr"
   ]
  },
  {
   "cell_type": "markdown",
   "metadata": {},
   "source": [
    "*usecols=(0,2)*  \n",
    "Es wird nur die erste und dritte Spalte geladen"
   ]
  },
  {
   "cell_type": "markdown",
   "metadata": {},
   "source": [
    "Mit der Option ***converters*** können Spalten beim Laden konvertiert werden.  \n",
    "Dazu wird mit einem Dictionary eine Funktion aufgerufen  \n",
    "***converters={<Spalte>:<Funktion>}***   \n",
    "Es geht auch lambda Funktion.\n",
    "In dem kleinen Beispiel wird in der zweiten Spalte (daher 1) mit einer lampda-Funktion der Wert verzehnfacht  \n",
    "*converters={1:lambda a:int(a)*10}*"
   ]
  },
  {
   "cell_type": "code",
   "execution_count": 59,
   "metadata": {},
   "outputs": [
    {
     "data": {
      "text/plain": [
       "array([[  0,  10,   2],\n",
       "       [  3,  40,   5],\n",
       "       [  6,  70,   8],\n",
       "       [  9, 100,  11]], dtype=int32)"
      ]
     },
     "execution_count": 59,
     "metadata": {},
     "output_type": "execute_result"
    }
   ],
   "source": [
    "arr=np.loadtxt('data2.txt',delimiter=';',dtype='i',converters={1:lambda a:int(a)*10})\n",
    "arr"
   ]
  },
  {
   "cell_type": "markdown",
   "metadata": {},
   "source": [
    "Um *savetxt()* weiter zu vertiefen, wurde das Beispiel aus den strukturierten Arrays verwendet."
   ]
  },
  {
   "cell_type": "code",
   "execution_count": 60,
   "metadata": {},
   "outputs": [],
   "source": [
    "#NumPy savetext\n",
    "\n",
    "import numpy as np\n",
    "\n",
    "dt = np.dtype([('species', 'U10'),\n",
    "('position', 'i4'),\n",
    "('expr', 'f8')])\n",
    "fungus = np.array([('Boletus', 25, 0.12),\n",
    "                    ('Hysterangi', 512, 8.5 ),\n",
    "                    ('Morchella', 1034, 7.1 )],\n",
    "                    dtype=dt)\n",
    "\n",
    "np.savetxt(\"fungus1.txt\", fungus, fmt='%10s' '%5i' '%10.3f')"
   ]
  },
  {
   "cell_type": "markdown",
   "metadata": {},
   "source": [
    "Das wird in die Textdatei fungus1.txt geschrieben:  "
   ]
  },
  {
   "attachments": {},
   "cell_type": "markdown",
   "metadata": {},
   "source": [
    "![savetxt01.png <](img/savetxt01.png)"
   ]
  },
  {
   "cell_type": "markdown",
   "metadata": {},
   "source": [
    "Für jede Spalte der Tabelle wurde ein eigenes Format angegeben.  \n",
    "*np.savetxt(\"fungus1.txt\", fungus, fmt='%10s' '%5i' '%10.3f')*    \n",
    "\n",
    "Die Formate '%10s' '%5i' '%10.3f' werden ohne Komma und nur mit Leerzeichen hintereinander geschrieben."
   ]
  },
  {
   "cell_type": "markdown",
   "metadata": {},
   "source": [
    "### Textdateien mit genfromtxt laden"
   ]
  },
  {
   "cell_type": "markdown",
   "metadata": {},
   "source": [
    "Die Methode *loadtxt()* macht Probleme, wenn Daten fehlen. Damit kann ***genfromtxt()*** besser umgehen.  \n",
    "\n",
    "Die möglichen Optionen sind beeindruckend umfangreich.  \n",
    "\n",
    "***genfromtxt(fname, dtype=<class 'float'>, comments='#', delimiter=None,skip_header=0, skip_footer=0, converters=None, missing_values=None,filling_values=None, usecols=None, names=None, excludelist=None,deletechars=None,replace_space='_', autostrip=False, case_sensitive=True,defaultfmt='f%i', unpack=None, usemask=False, loose=True,invalid_raise=True, max_rows=None, encoding='bytes')***  \n",
    "\n",
    "\n",
    "*genfromtxt()* kann die Archivformate gzip und bzip2 verarbeiten."
   ]
  },
  {
   "cell_type": "markdown",
   "metadata": {},
   "source": [
    "### Binärdateien schreiben und lesen"
   ]
  },
  {
   "cell_type": "markdown",
   "metadata": {},
   "source": [
    "Bisher haben wir nur Textdateien geöffnet und erstellt.  \n",
    "Mit NumPy können sowohl Textdateien als auch Binärdateien geschrieben und gelesen werden.  \n",
    "\n",
    "Dazu sind die beiden Methoden ***tofile*** und ***fromfile*** vorhanden.  \n",
    "\n",
    "***tofile(<Dateiname>, Trennzeichen=' ', Format='%s')***  \n",
    "\n",
    "*fromfile(Dateiname, dtype=float, count=-1, sep='')*  \n",
    "Mit der Option count kann die Anzahl der Werte eingestellt werden. Standard ist '-1' , es werden alle Daten genommen.  \n",
    "\n",
    "Vorsicht bei der Kombination von *tofile* und *fromfile*.  \n",
    "Binäre Daten sind auf der Festplatte je nach Betriebssystem (Linux, Mac, Windows) anderes angeordnet.  "
   ]
  },
  {
   "attachments": {},
   "cell_type": "markdown",
   "metadata": {},
   "source": [
    "![Scutellinia_scutellata.jpg <](img/Scutellinia_scutellata.jpg)"
   ]
  },
  {
   "cell_type": "markdown",
   "metadata": {},
   "source": [
    "Gewöhnliche Schildborstling oder Holz-Schildborstling,*Scutellinia scutellata*, CC BY 3.0"
   ]
  },
  {
   "cell_type": "markdown",
   "metadata": {},
   "source": [
    "## Bilddateien mit NumPy bearbeiten"
   ]
  },
  {
   "cell_type": "markdown",
   "metadata": {},
   "source": [
    "Ein Riesenanwendungsgebiet von NumPy sind Bilddateien. Eine Bilddatei ist grundsätzlich eine 3D-Array.  \n",
    "Dabei werden die Daten bei den gängigsten Formate für Bilddateien binär gespeichert.  \n",
    "\n",
    "Es gibt einige Module, die Methoden zum Öffnen der Bilder und einlesen in einen Array mitbringen.  \n",
    "\n",
    "Aus der Bibliothek ***Matplotlib*** ist das die Methode *imread()*.  \n",
    "Matplotlib wird benutzt, um die Bilder anzuzeigen.  \n",
    "Das wird im Beispiel unten gezeigt.  \n",
    "\n",
    "***Python Imaging Library*** (PIL) bringt eine ganze Reihe ausgefeilter Werkzeuge mit. Ein Projekt dazu wird vorgestellt.  \n",
    "\n",
    "Die freie Software-Bibliothek zur Bildverarbeitung ***scikit-image*** ist für Verarbeitung mit NumPy konzipiert.  \n",
    "Erst 2009 gestartet, werden vielfältige Methoden für Segmentierung,\n",
    "geometrische Transformationen, Farbraummanipulation, Analyse und Filterung zur Verfügung gestellt.  \n",
    "\n",
    "In diesem Kurs gibt es nur einen kleinen Einstieg.  "
   ]
  },
  {
   "cell_type": "markdown",
   "metadata": {},
   "source": [
    "### Bild erzeugen mit Pillow / Python Imaging Library (PIL)"
   ]
  },
  {
   "cell_type": "markdown",
   "metadata": {},
   "source": [
    "Die Bibliothek ***Python Imaging Library*** (PIL) wurde durch ***Pillow*** weiterentwickelt ([Wikipedia](https://en.wikipedia.org/wiki/Python_Imaging_Library))  \n",
    "\n",
    "Mit Pillow können Bilder geöffnet, bearbeitet und gespeichert werden. Die Bearbeitung erfolgt mit NumPy.  \n",
    "\n",
    "Ein kleines Beispiel soll das verdeutlichen.  "
   ]
  },
  {
   "cell_type": "code",
   "execution_count": 66,
   "metadata": {},
   "outputs": [
    {
     "name": "stdout",
     "output_type": "stream",
     "text": [
      "(100, 200, 3)\n",
      "3\n"
     ]
    },
    {
     "data": {
      "text/plain": [
       "<matplotlib.image.AxesImage at 0x26fced49610>"
      ]
     },
     "execution_count": 66,
     "metadata": {},
     "output_type": "execute_result"
    },
    {
     "data": {
      "image/png": "[encoded data removed]",
      "text/plain": [
       "<Figure size 432x288 with 1 Axes>"
      ]
     },
     "metadata": {
      "needs_background": "light"
     },
     "output_type": "display_data"
    }
   ],
   "source": [
    "#Pillow and NumPy\n",
    "\n",
    "import numpy as np\n",
    "from PIL import Image\n",
    "#%matplotlib inline #use this for Jupyter notebook to show image inline\n",
    "from matplotlib.pyplot import imshow\n",
    "\n",
    "width,heigth = 200,100\n",
    "array = np.zeros([heigth, width, 3], dtype=np.uint8)\n",
    "print(array.shape)\n",
    "print(array.ndim)\n",
    "\n",
    "array[:,:100] = [255, 0, 0]\n",
    "array[:,100:] = [0, 0, 255]\n",
    "img = Image.fromarray(array)\n",
    "img.save('test.png')\n",
    "imshow(img)"
   ]
  },
  {
   "cell_type": "markdown",
   "metadata": {},
   "source": [
    "Zuerst wird im Programm ein dreidimensionales Array erstellt.  \n",
    "Das Bild soll 200 x 100 Pixel (Breite x Höhe) umfassen.  \n",
    "Für die Farben (RGB Rot-Grün-Blau) werden 3 Byte angelegt.  \n",
    "Das Array wird mit zeros() erzeugt.  \n",
    "*array = np.zeros([heigth, width, 3], dtype=np.uint8)*  \n",
    "Alle Werte sind nun auf 0 gestellt und daher schwarz  \n",
    "\n",
    "Zur Kontrolle wird mit print und shape die Dimensionen ausgegeben  \n",
    "*array.shape*  \n",
    "Das Tuble (100, 200, 3) wird angezeigt.  \n",
    "\n",
    "Für die ersten 100 Pixel in der x-Achse array[:,:100] wird Rot eingestellt.  \n",
    "Alle Zeilen und Spalten bis 100.  \n",
    "*array[:,:100] = [255, 0, 0]*  \n",
    "Die Farben werden in dem Schema Rot, Grün, Blau eingegeben.  \n",
    "[255, 0, 0] ist daher rot.  \n",
    "[0, 255, 0] ist daher grün.\n",
    "[0, 0, 255] ist daher blau.\n",
    "\n",
    "Die andere Hälfte array[:,100:] wird blau.  \n",
    "Alle Zeilen und Spalte 100 bis Ende.\n",
    "*array[:,100:] = [0, 0, 255]*  \n",
    "\n",
    "Im letzten Schritt wird mit Hilfe der Pillow Funktion *fromarray()* ein Image erzeugt.  \n",
    "*img = Image.fromarray(array)*  \n",
    "\n",
    "Mit der Pillow Funktion *save()* wird das Bild gespeichert und mit *imshow()* auf dem Bildschirm ausgegeben.  \n",
    "*img.save('test.png')*  \n",
    "*imshow(img)*  "
   ]
  },
  {
   "attachments": {},
   "cell_type": "markdown",
   "metadata": {},
   "source": [
    "![GUS1_300.jpg <](img/GUS1_300.jpg)"
   ]
  },
  {
   "cell_type": "markdown",
   "metadata": {},
   "source": [
    "### Bild auswerten mit der Bibliothek scikit-image"
   ]
  },
  {
   "cell_type": "markdown",
   "metadata": {},
   "source": [
    "Die Bibliothek scikit-image basiert auf NumPy.  \n",
    "Ein sehr gutes Tutorial gibt es bei scikit-image.org  \n",
    "[scikit-image.org/docs/dev/user_guide/numpy_images.html](https://scikit-image.org/docs/dev/user_guide/numpy_images.html)  \n",
    "Hier ein kleiner Einstieg. **GUS1.png** ist die verwendete Bilddatei.  "
   ]
  },
  {
   "cell_type": "code",
   "execution_count": 69,
   "metadata": {},
   "outputs": [
    {
     "data": {
      "text/plain": [
       "<matplotlib.image.AxesImage at 0x26fcf79de80>"
      ]
     },
     "execution_count": 69,
     "metadata": {},
     "output_type": "execute_result"
    },
    {
     "data": {
      "image/png": "[encoded data removed]",
      "text/plain": [
       "<Figure size 432x288 with 1 Axes>"
      ]
     },
     "metadata": {
      "needs_background": "light"
     },
     "output_type": "display_data"
    }
   ],
   "source": [
    "#scikit-image Image file open - NumPy Background black\n",
    "\n",
    "from skimage import io\n",
    "#%matplotlib inline #use this for Jupyter notebook to show image inline\n",
    "from matplotlib.pyplot import imshow\n",
    "\n",
    "img = io.imread('GUS1.png')\n",
    "\n",
    "imshow(img)\n"
   ]
  },
  {
   "cell_type": "markdown",
   "metadata": {},
   "source": [
    "In dem Programm wird das Bild geladen und der weiße Hintergrund wird in einen schwarzen Hintergrund verwandelt.  \n",
    "\n",
    "Das Bild wird geladen  \n",
    "*img = io.imread('GUS1.png')*  \n",
    "\n",
    "Das geladenen Bild wird mit *imshow(img)* auf dem Bildschirm angezeigt"
   ]
  },
  {
   "cell_type": "code",
   "execution_count": 74,
   "metadata": {},
   "outputs": [
    {
     "name": "stdout",
     "output_type": "stream",
     "text": [
      "(879, 1679, 3)\n",
      "4427523\n",
      "[ 75 170 150]\n"
     ]
    },
    {
     "data": {
      "text/plain": [
       "<matplotlib.image.AxesImage at 0x26fd1a6e2b0>"
      ]
     },
     "execution_count": 74,
     "metadata": {},
     "output_type": "execute_result"
    },
    {
     "data": {
      "image/png": "[encoded data removed]",
      "text/plain": [
       "<Figure size 432x288 with 1 Axes>"
      ]
     },
     "metadata": {
      "needs_background": "light"
     },
     "output_type": "display_data"
    }
   ],
   "source": [
    "print(img.shape)\n",
    "print(img.size)\n",
    "print(img[400,800])\n",
    "\n",
    "mask=img[:,:]==[255,255,255]\n",
    "img[mask]=0\n",
    "imshow(img)"
   ]
  },
  {
   "cell_type": "markdown",
   "metadata": {},
   "source": [
    "Mit *shape*, *size* werden einige Informationen zu dem Bild ausgegeben.  \n",
    "*(879, 1679, 3)*  \n",
    "Das Bild hat eine Auflösung von 879 Höhe x 1679 Breite und 3 byte für die Farbwerte.  \n",
    "\n",
    "*4427523*  \n",
    "Anzahl der Elemente in dem Array ist 4427523.  \n",
    "Die Bytegröße der Datei ist damit auch 4427523, also ca. 4,4 MB.  \n",
    "Als png-Datei ist die Datei kleiner (Komprimierung).  \n",
    "In Python wird die Datei ausgepackt und das entspricht ungefähr der Größe eine TIF-Bildes ohne Komprimierung.  \n",
    "\n",
    "Den Farbwert eines Pixels wird angezeigt. Uns interessiert zum Beispiel das Pixel 400 Höhe und 800 Breite.  \n",
    "Das wird folgendermaßen abgefragt.  \n",
    "*img[400,800]*  \n",
    "Es wird ein Array mit den Farbwerten rot - grün - blau ausgegeben.  \n",
    "*[ 75 170 150]*  \n",
    "Das Pixel weist 75 rot 170 grün und 150 blau auf.  \n",
    "\n",
    "Mit eine Maske werden die weißen Pixel mit dem Farbwert [255,255,255] ermittelt.  \n",
    "mask=img[:,:]==[255,255,255]  \n",
    "\n",
    "Die Maske wird verwendet, um alle weißen Pixel auf schwarz zu ändern.  \n",
    "img[mask]=0  \n",
    "\n",
    "Mit imshow(img) wird das Bild wieder ausgegeben.  "
   ]
  },
  {
   "cell_type": "markdown",
   "metadata": {},
   "source": [
    "In dem nächsten Schritt soll nur der blau gefärbten Bereich gezeigt werden."
   ]
  },
  {
   "cell_type": "code",
   "execution_count": 79,
   "metadata": {},
   "outputs": [
    {
     "data": {
      "text/plain": [
       "<matplotlib.image.AxesImage at 0x26fcf835ac0>"
      ]
     },
     "execution_count": 79,
     "metadata": {},
     "output_type": "execute_result"
    },
    {
     "data": {
      "image/png": "[encoded data removed]",
      "text/plain": [
       "<Figure size 432x288 with 1 Axes>"
      ]
     },
     "metadata": {
      "needs_background": "light"
     },
     "output_type": "display_data"
    }
   ],
   "source": [
    "#scikit-image Image file open - NumPy only blue Pixel\n",
    "\n",
    "from skimage import io\n",
    "#%matplotlib inline #use this only for Jupyter notebook to show image inline\n",
    "from matplotlib.pyplot import imshow\n",
    "\n",
    "img = io.imread('GUS1.png')\n",
    "\n",
    "mask=img[:,:,2]>175\n",
    "img[mask]=[0,0,0]\n",
    "imshow(img)"
   ]
  },
  {
   "cell_type": "markdown",
   "metadata": {},
   "source": [
    "Es wird wieder eine NumPy Indizierung verwendet.  \n",
    "*mask=img[:,:,2]>175*  \n",
    "Alle Pixel der Höhe und der Breite, sowie nur die blauen Pixel werden betrachtet [:,:,2]  \n",
    "0 - rot, 1- grün, 2 - blau  \n",
    "*mask=img[:,:,2]>175*  \n",
    "Mit der Maske werden die Pixel auf schwarz gestellt.  \n",
    "*img[mask]=[0,0,0]*  "
   ]
  },
  {
   "cell_type": "markdown",
   "metadata": {},
   "source": [
    "Das Ergebnis zeigt noch viele grün-blaue Bereiche, die nicht zur GUS Färbung gehören.  \n",
    "\n",
    "Mit dem **RGB** Farbmodell kann das nicht ausreichend analysiert werden.  \n",
    "Daher werden die Farbwerte in den **HSV** Farbraum umgewandelt."
   ]
  },
  {
   "cell_type": "code",
   "execution_count": 81,
   "metadata": {},
   "outputs": [
    {
     "data": {
      "text/plain": [
       "<matplotlib.image.AxesImage at 0x26fd1cb7b50>"
      ]
     },
     "execution_count": 81,
     "metadata": {},
     "output_type": "execute_result"
    },
    {
     "data": {
      "image/png": "[encoded data removed]",
      "text/plain": [
       "<Figure size 432x288 with 1 Axes>"
      ]
     },
     "metadata": {
      "needs_background": "light"
     },
     "output_type": "display_data"
    }
   ],
   "source": [
    "#scikit-image NumPy only blue Pixel HSV\n",
    "\n",
    "from skimage import io, color\n",
    "#%matplotlib inline #use this only for Jupyter notebook to show image inline\n",
    "from matplotlib.pyplot import imshow\n",
    "\n",
    "img = io.imread('GUS1.png')\n",
    "\n",
    "img_hsv = color.rgb2hsv(img)\n",
    "mask=img[:,:,0]>145\n",
    "img[mask]=[0,0,0]\n",
    "\n",
    "imshow(img)"
   ]
  },
  {
   "cell_type": "markdown",
   "metadata": {},
   "source": [
    "Mit der scikit-image Funktion ***rgb2hsv()*** werden die Farbwerte aus dem RGB in den HSV Farbraum übertragen.  \n",
    "*img_hsv = color.rgb2hsv(img)*  \n",
    "\n",
    "Die Farben werden jetzt als *[Hue Saturation Value]* angegeben.  \n",
    "Der erste Wert 0 ist der Farbwert (Hue). \n",
    "Unser blau, das der GUS Färbung, ist ab 145.  \n",
    "*mask=img[:,:,0]>145*  \n",
    "\n",
    "Mit Hilfe der Maske werden alle Werte auf schwarz gestellt, die diese Bedingung erfüllen.  \n",
    "*img[mask]=[0,0,0]*  "
   ]
  },
  {
   "cell_type": "markdown",
   "metadata": {},
   "source": [
    "Es zeigt sich, dass dieses Vorgehen besser die Bereiche der GUS Färbung abbilden kann.  \n",
    "\n",
    "Wie die Bereiche berechnet werden können, zeigt das Beispiel Gus-staining-numpy-calc.  \n",
    "\n",
    "\n"
   ]
  },
  {
   "cell_type": "markdown",
   "metadata": {},
   "source": [
    "### Bilddateien mit Matplotlib öffnen"
   ]
  },
  {
   "cell_type": "markdown",
   "metadata": {},
   "source": [
    "In Matplotlib ist die Methode ***imread()*** enthalten.  \n",
    "Es soll die Bilddatei **GUS1.png** geöffnet werden.  \n",
    "\n",
    "Dazu die Bilddatei in den gleichen Ordner wie das Programm speichern."
   ]
  },
  {
   "cell_type": "code",
   "execution_count": 82,
   "metadata": {},
   "outputs": [
    {
     "name": "stdout",
     "output_type": "stream",
     "text": [
      "[[[1. 1. 1.]\n",
      "  [1. 1. 1.]\n",
      "  [1. 1. 1.]\n",
      "  ...\n",
      "  [1. 1. 1.]\n",
      "  [1. 1. 1.]\n",
      "  [1. 1. 1.]]\n",
      "\n",
      " [[1. 1. 1.]\n",
      "  [1. 1. 1.]\n",
      "  [1. 1. 1.]\n",
      "  ...\n",
      "  [1. 1. 1.]\n",
      "  [1. 1. 1.]\n",
      "  [1. 1. 1.]]\n",
      "\n",
      " [[1. 1. 1.]\n",
      "  [1. 1. 1.]\n",
      "  [1. 1. 1.]\n",
      "  ...\n",
      "  [1. 1. 1.]\n",
      "  [1. 1. 1.]\n",
      "  [1. 1. 1.]]\n",
      "\n",
      " ...\n",
      "\n",
      " [[1. 1. 1.]\n",
      "  [1. 1. 1.]\n",
      "  [1. 1. 1.]\n",
      "  ...\n",
      "  [1. 1. 1.]\n",
      "  [1. 1. 1.]\n",
      "  [1. 1. 1.]]\n",
      "\n",
      " [[1. 1. 1.]\n",
      "  [1. 1. 1.]\n",
      "  [1. 1. 1.]\n",
      "  ...\n",
      "  [1. 1. 1.]\n",
      "  [1. 1. 1.]\n",
      "  [1. 1. 1.]]\n",
      "\n",
      " [[1. 1. 1.]\n",
      "  [1. 1. 1.]\n",
      "  [1. 1. 1.]\n",
      "  ...\n",
      "  [1. 1. 1.]\n",
      "  [1. 1. 1.]\n",
      "  [1. 1. 1.]]]\n"
     ]
    },
    {
     "data": {
      "image/png": "[encoded data removed]",
      "text/plain": [
       "<Figure size 432x288 with 1 Axes>"
      ]
     },
     "metadata": {
      "needs_background": "light"
     },
     "output_type": "display_data"
    }
   ],
   "source": [
    "#Matplotlib imread\n",
    "\n",
    "import matplotlib.image as mpimg\n",
    "import matplotlib.pyplot as plt\n",
    "\n",
    "img=mpimg.imread('GUS1.png')\n",
    "\n",
    "print(img)\n",
    "\n",
    "imgplot = plt.imshow(img)"
   ]
  },
  {
   "cell_type": "markdown",
   "metadata": {},
   "source": [
    "Die Bilddatei wird mit imread() geöffnet  \n",
    "*img=mpimg.imread('GUS1.png')*  \n",
    "\n",
    "Es wird das Array auf den Bildschirm ausgegeben.  \n",
    "\n",
    "Das Bild kann mit der Methode *imshow()* auch auf den Bildschirm gebracht werden.  \n",
    "*imgplot = plt.imshow(img)*  "
   ]
  },
  {
   "attachments": {},
   "cell_type": "markdown",
   "metadata": {},
   "source": [
    "![GUS1_300.jpg <](img/GUS1_300.jpg)"
   ]
  },
  {
   "cell_type": "markdown",
   "metadata": {},
   "source": [
    "### Projekt mit Pillow - GUS Staining"
   ]
  },
  {
   "cell_type": "markdown",
   "metadata": {},
   "source": [
    "Wie in dem Beispiel oben soll die Aufgabe diesmal mit der Bibliothek Pillow gelöst werden.  \n",
    "Hier werden die Bereiche auch ausgewertet.  \n",
    "\n",
    "Die Pflanze wurde mit Hilfe der \"GUS Staining\" Technik behandelt. Die Unterschiede zeigen sich in der Intensität der Blaufärbung.  \n",
    "Ziel ist es die Fläche und die Intensität der blauen Bereiche zu messen.  \n",
    "\n",
    "Die Bild- und Programmdateien befinden sich in der zip-Archivdatei  \n",
    "Gus-staining-python.zip  "
   ]
  },
  {
   "cell_type": "code",
   "execution_count": 83,
   "metadata": {},
   "outputs": [
    {
     "name": "stdout",
     "output_type": "stream",
     "text": [
      "GUS1.png :\n",
      "Content: 44.8 %\n",
      "Density,absolute Saturation: 80551.4\n",
      "Density,average Saturation: 0.442\n"
     ]
    },
    {
     "data": {
      "image/png": "[encoded data removed]",
      "text/plain": [
       "<Figure size 432x288 with 2 Axes>"
      ]
     },
     "metadata": {
      "needs_background": "light"
     },
     "output_type": "display_data"
    }
   ],
   "source": [
    "#GUS Staining\n",
    "\n",
    "from PIL import Image\n",
    "import matplotlib.pyplot as plt\n",
    "import os\n",
    "\n",
    "#open file to write the results, append\n",
    "file_result=open('gus_results.txt','w')\n",
    "se='\\t'\n",
    "file_result.write('file name'+se+'cont(%)'+se+'abs'+se+'dens'+'\\n')\n",
    "\n",
    "for file_name in os.listdir(\".\"):\n",
    "    if file_name.endswith(\".png\") and file_name.startswith('GUS'):\n",
    "         # open file\n",
    "         im=Image.open(file_name)\n",
    "         # height and width of the opened file image\n",
    "         height=im.size[0]\n",
    "         width=im.size[1]\n",
    "         # new image for testing, found color will be draw\n",
    "         im_new=Image.new('RGB',(height,width),'black')\n",
    "         # convert to HSV\n",
    "         im_hsv=im.convert('HSV')\n",
    "\n",
    "         #Images to PixelObjekt, for the loop\n",
    "         pixels = im_hsv.load()\n",
    "         pixels2=im_new.load()\n",
    "\n",
    "         sat=0 #saturation\n",
    "         n=0 #pixel color\n",
    "         b=0 #pixel leaf\n",
    "\n",
    "         # loop to find every pixel\n",
    "         for i in range(height):\n",
    "              for j in range(width):\n",
    "                   # pixels[x,y] [h,s,v]\n",
    "                   h=(pixels[i,j][0])*360/255 #Hue 0 - 360\n",
    "                   s=(pixels[i,j][1])*1/255 #saturation 0 -1\n",
    "                   v=(pixels[i,j][2])*1/255 #value 0 - 1\n",
    "                   # leaf, white background s>0.05\n",
    "                   if s>0.05:\n",
    "                        b += 1\n",
    "                        pixels2[i,j]=(50,50,50)\n",
    "                   #example_1 h 60 - 240 example_2 150-240\n",
    "                   if h>150 and h<240:\n",
    "                        # write to test image, pixels[x,y]=(r,g,b)\n",
    "                        pixels2[i,j]=(150,150,255)\n",
    "                        # s and n for calculating\n",
    "                        sat=sat+s\n",
    "                        n += 1\n",
    "\n",
    "         pix_cont=round(100/b*n,1) #color pixel per leaf\n",
    "         pix_abs=round(sat,1) #abs saturation\n",
    "         pix_dens=round(sat/n,3) #saturation per color pixel\n",
    "\n",
    "\n",
    "         #calculating the pixel in image, amount and density\n",
    "         print(file_name,':')\n",
    "         print('Content:',pix_cont,'%')\n",
    "         print('Density,absolute Saturation:',pix_abs)\n",
    "         print('Density,average Saturation:',pix_dens)\n",
    "         \n",
    "         file_result.write(str(file_name)+se+str(pix_cont)+se+str(pix_abs)+se+str(pix_dens)+'\\n')\n",
    "\n",
    "         fig = plt.figure()\n",
    "         a=fig.add_subplot(1,2,1)\n",
    "        #Axis off\n",
    "         plt.axis(\"off\")\n",
    "         imgplot = plt.imshow(im)\n",
    "\n",
    "         a=fig.add_subplot(1,2,2)\n",
    "         imgplot = plt.imshow(im_new)\n",
    "\n",
    "        #Axis off\n",
    "         plt.axis(\"off\")\n",
    "\n",
    "         plt.show()\n",
    "\n",
    "        # if necessary to save the test image\n",
    "        #im_new.save('image_hsv_GUS1.png')\n",
    "\n",
    "file_result.close()"
   ]
  },
  {
   "cell_type": "code",
   "execution_count": null,
   "metadata": {},
   "outputs": [],
   "source": []
  }
 ],
 "metadata": {
  "kernelspec": {
   "display_name": "Python 3",
   "language": "python",
   "name": "python3"
  },
  "language_info": {
   "codemirror_mode": {
    "name": "ipython",
    "version": 3
   },
   "file_extension": ".py",
   "mimetype": "text/x-python",
   "name": "python",
   "nbconvert_exporter": "python",
   "pygments_lexer": "ipython3",
   "version": "3.8.5"
  }
 },
 "nbformat": 4,
 "nbformat_minor": 4
}
